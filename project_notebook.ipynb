{
 "cells": [
  {
   "cell_type": "markdown",
   "metadata": {},
   "source": [
    "# Can online customers' purchasing intention be predicted beforehand using the power of ML?"
   ]
  },
  {
   "cell_type": "code",
   "execution_count": null,
   "metadata": {},
   "outputs": [],
   "source": [
    "# To be able to run on Google Colab\n",
    "!wget https://raw.githubusercontent.com/berkaycanogullari/MSDS621_Proj/main/online_shoppers_intention.csv"
   ]
  },
  {
   "cell_type": "code",
   "execution_count": 1,
   "metadata": {},
   "outputs": [],
   "source": [
    "# Import necessary libraries and packages\n",
    "\n",
    "import pandas as pd\n",
    "import numpy as np\n",
    "import imblearn\n",
    "import matplotlib.pyplot as plt\n",
    "\n",
    "from imblearn.pipeline          import make_pipeline\n",
    "from imblearn.over_sampling     import SMOTE\n",
    "from sklearn.pipeline           import Pipeline\n",
    "from sklearn.model_selection    import train_test_split, RandomizedSearchCV\n",
    "from sklearn.linear_model       import LogisticRegression\n",
    "from sklearn.ensemble           import RandomForestClassifier \n",
    "from sklearn.impute             import SimpleImputer\n",
    "from sklearn.preprocessing      import StandardScaler, OneHotEncoder\n",
    "from sklearn.metrics            import balanced_accuracy_score, roc_auc_score, f1_score, precision_score, recall_score, confusion_matrix\n",
    "from sklearn.compose            import ColumnTransformer\n",
    "from sklearn.inspection         import permutation_importance\n",
    "from sklearn                    import set_config\n",
    "set_config('diagram')\n",
    "import warnings\n",
    "warnings.filterwarnings('ignore')"
   ]
  },
  {
   "cell_type": "markdown",
   "metadata": {},
   "source": [
    "## NOTE! Results may change on Colab due to the randomness in train/test split and ML algorithms. Check GitHub repo notebook for correct interpretations."
   ]
  },
  {
   "cell_type": "markdown",
   "metadata": {},
   "source": [
    "# DATASET"
   ]
  },
  {
   "cell_type": "code",
   "execution_count": 2,
   "metadata": {},
   "outputs": [],
   "source": [
    "# Read in the data\n",
    "\n",
    "data = pd.read_csv('online_shoppers_intention.csv')"
   ]
  },
  {
   "cell_type": "code",
   "execution_count": 3,
   "metadata": {},
   "outputs": [
    {
     "data": {
      "text/html": [
       "<div>\n",
       "<style scoped>\n",
       "    .dataframe tbody tr th:only-of-type {\n",
       "        vertical-align: middle;\n",
       "    }\n",
       "\n",
       "    .dataframe tbody tr th {\n",
       "        vertical-align: top;\n",
       "    }\n",
       "\n",
       "    .dataframe thead th {\n",
       "        text-align: right;\n",
       "    }\n",
       "</style>\n",
       "<table border=\"1\" class=\"dataframe\">\n",
       "  <thead>\n",
       "    <tr style=\"text-align: right;\">\n",
       "      <th></th>\n",
       "      <th>Administrative</th>\n",
       "      <th>Administrative_Duration</th>\n",
       "      <th>Informational</th>\n",
       "      <th>Informational_Duration</th>\n",
       "      <th>ProductRelated</th>\n",
       "      <th>ProductRelated_Duration</th>\n",
       "      <th>BounceRates</th>\n",
       "      <th>ExitRates</th>\n",
       "      <th>PageValues</th>\n",
       "      <th>SpecialDay</th>\n",
       "      <th>Month</th>\n",
       "      <th>OperatingSystems</th>\n",
       "      <th>Browser</th>\n",
       "      <th>Region</th>\n",
       "      <th>TrafficType</th>\n",
       "      <th>VisitorType</th>\n",
       "      <th>Weekend</th>\n",
       "      <th>Revenue</th>\n",
       "    </tr>\n",
       "  </thead>\n",
       "  <tbody>\n",
       "    <tr>\n",
       "      <th>0</th>\n",
       "      <td>0</td>\n",
       "      <td>0.0</td>\n",
       "      <td>0</td>\n",
       "      <td>0.0</td>\n",
       "      <td>1</td>\n",
       "      <td>0.000000</td>\n",
       "      <td>0.20</td>\n",
       "      <td>0.20</td>\n",
       "      <td>0.0</td>\n",
       "      <td>0.0</td>\n",
       "      <td>Feb</td>\n",
       "      <td>1</td>\n",
       "      <td>1</td>\n",
       "      <td>1</td>\n",
       "      <td>1</td>\n",
       "      <td>Returning_Visitor</td>\n",
       "      <td>False</td>\n",
       "      <td>False</td>\n",
       "    </tr>\n",
       "    <tr>\n",
       "      <th>1</th>\n",
       "      <td>0</td>\n",
       "      <td>0.0</td>\n",
       "      <td>0</td>\n",
       "      <td>0.0</td>\n",
       "      <td>2</td>\n",
       "      <td>64.000000</td>\n",
       "      <td>0.00</td>\n",
       "      <td>0.10</td>\n",
       "      <td>0.0</td>\n",
       "      <td>0.0</td>\n",
       "      <td>Feb</td>\n",
       "      <td>2</td>\n",
       "      <td>2</td>\n",
       "      <td>1</td>\n",
       "      <td>2</td>\n",
       "      <td>Returning_Visitor</td>\n",
       "      <td>False</td>\n",
       "      <td>False</td>\n",
       "    </tr>\n",
       "    <tr>\n",
       "      <th>2</th>\n",
       "      <td>0</td>\n",
       "      <td>0.0</td>\n",
       "      <td>0</td>\n",
       "      <td>0.0</td>\n",
       "      <td>1</td>\n",
       "      <td>0.000000</td>\n",
       "      <td>0.20</td>\n",
       "      <td>0.20</td>\n",
       "      <td>0.0</td>\n",
       "      <td>0.0</td>\n",
       "      <td>Feb</td>\n",
       "      <td>4</td>\n",
       "      <td>1</td>\n",
       "      <td>9</td>\n",
       "      <td>3</td>\n",
       "      <td>Returning_Visitor</td>\n",
       "      <td>False</td>\n",
       "      <td>False</td>\n",
       "    </tr>\n",
       "    <tr>\n",
       "      <th>3</th>\n",
       "      <td>0</td>\n",
       "      <td>0.0</td>\n",
       "      <td>0</td>\n",
       "      <td>0.0</td>\n",
       "      <td>2</td>\n",
       "      <td>2.666667</td>\n",
       "      <td>0.05</td>\n",
       "      <td>0.14</td>\n",
       "      <td>0.0</td>\n",
       "      <td>0.0</td>\n",
       "      <td>Feb</td>\n",
       "      <td>3</td>\n",
       "      <td>2</td>\n",
       "      <td>2</td>\n",
       "      <td>4</td>\n",
       "      <td>Returning_Visitor</td>\n",
       "      <td>False</td>\n",
       "      <td>False</td>\n",
       "    </tr>\n",
       "    <tr>\n",
       "      <th>4</th>\n",
       "      <td>0</td>\n",
       "      <td>0.0</td>\n",
       "      <td>0</td>\n",
       "      <td>0.0</td>\n",
       "      <td>10</td>\n",
       "      <td>627.500000</td>\n",
       "      <td>0.02</td>\n",
       "      <td>0.05</td>\n",
       "      <td>0.0</td>\n",
       "      <td>0.0</td>\n",
       "      <td>Feb</td>\n",
       "      <td>3</td>\n",
       "      <td>3</td>\n",
       "      <td>1</td>\n",
       "      <td>4</td>\n",
       "      <td>Returning_Visitor</td>\n",
       "      <td>True</td>\n",
       "      <td>False</td>\n",
       "    </tr>\n",
       "  </tbody>\n",
       "</table>\n",
       "</div>"
      ],
      "text/plain": [
       "   Administrative  Administrative_Duration  Informational  \\\n",
       "0               0                      0.0              0   \n",
       "1               0                      0.0              0   \n",
       "2               0                      0.0              0   \n",
       "3               0                      0.0              0   \n",
       "4               0                      0.0              0   \n",
       "\n",
       "   Informational_Duration  ProductRelated  ProductRelated_Duration  \\\n",
       "0                     0.0               1                 0.000000   \n",
       "1                     0.0               2                64.000000   \n",
       "2                     0.0               1                 0.000000   \n",
       "3                     0.0               2                 2.666667   \n",
       "4                     0.0              10               627.500000   \n",
       "\n",
       "   BounceRates  ExitRates  PageValues  SpecialDay Month  OperatingSystems  \\\n",
       "0         0.20       0.20         0.0         0.0   Feb                 1   \n",
       "1         0.00       0.10         0.0         0.0   Feb                 2   \n",
       "2         0.20       0.20         0.0         0.0   Feb                 4   \n",
       "3         0.05       0.14         0.0         0.0   Feb                 3   \n",
       "4         0.02       0.05         0.0         0.0   Feb                 3   \n",
       "\n",
       "   Browser  Region  TrafficType        VisitorType  Weekend  Revenue  \n",
       "0        1       1            1  Returning_Visitor    False    False  \n",
       "1        2       1            2  Returning_Visitor    False    False  \n",
       "2        1       9            3  Returning_Visitor    False    False  \n",
       "3        2       2            4  Returning_Visitor    False    False  \n",
       "4        3       1            4  Returning_Visitor     True    False  "
      ]
     },
     "execution_count": 3,
     "metadata": {},
     "output_type": "execute_result"
    }
   ],
   "source": [
    "# Take a glance at the dataset\n",
    "\n",
    "data.head()"
   ]
  },
  {
   "cell_type": "code",
   "execution_count": 4,
   "metadata": {},
   "outputs": [
    {
     "data": {
      "text/plain": [
       "(12330, 18)"
      ]
     },
     "execution_count": 4,
     "metadata": {},
     "output_type": "execute_result"
    }
   ],
   "source": [
    "# Size\n",
    "\n",
    "data.shape"
   ]
  },
  {
   "cell_type": "markdown",
   "metadata": {},
   "source": [
    "- There are no missing(np.nan) values in any of the columns based on pandas inspection\n",
    "- Further inspection is done on a seperate notebook to see if missing values encoded differently than np.nan\n",
    "- After doing EDA, I still have the same conclusion. **There aren't any missing values**"
   ]
  },
  {
   "cell_type": "markdown",
   "metadata": {},
   "source": [
    "## Check target balance"
   ]
  },
  {
   "cell_type": "code",
   "execution_count": 5,
   "metadata": {},
   "outputs": [
    {
     "data": {
      "text/plain": [
       "(1908, 10422)"
      ]
     },
     "execution_count": 5,
     "metadata": {},
     "output_type": "execute_result"
    }
   ],
   "source": [
    "revenue_positive = data.Revenue.sum() # Total class 1\n",
    "revenue_negative = (~data.Revenue.values).sum() # Total class 0\n",
    "\n",
    "revenue_positive, revenue_negative"
   ]
  },
  {
   "cell_type": "markdown",
   "metadata": {},
   "source": [
    "- Target is **imbalanced** and needed to be treated accordingly\n",
    "- Approximately 16% of the data is *class 1*, rest is *class 0*"
   ]
  },
  {
   "cell_type": "markdown",
   "metadata": {},
   "source": [
    "## Train/Test split"
   ]
  },
  {
   "cell_type": "code",
   "execution_count": 6,
   "metadata": {},
   "outputs": [],
   "source": [
    "# Define features and label\n",
    "\n",
    "X, y = data.drop('Revenue', axis=1), data.Revenue\n",
    "y = y.values.ravel() # numpy trick to be able to split to train/test"
   ]
  },
  {
   "cell_type": "markdown",
   "metadata": {},
   "source": [
    "- Use **stratified splitting** based on target since the dataset is imbalanced\n",
    "- Important to do **before** applying any transformations"
   ]
  },
  {
   "cell_type": "code",
   "execution_count": 7,
   "metadata": {},
   "outputs": [],
   "source": [
    "X_train, X_test, y_train, y_test = train_test_split(X, y, stratify=y, test_size=0.2) # 0.8/0.2 stratified splitting"
   ]
  },
  {
   "cell_type": "markdown",
   "metadata": {},
   "source": [
    " "
   ]
  },
  {
   "cell_type": "markdown",
   "metadata": {},
   "source": [
    " "
   ]
  },
  {
   "cell_type": "markdown",
   "metadata": {},
   "source": [
    " "
   ]
  },
  {
   "cell_type": "markdown",
   "metadata": {},
   "source": [
    " "
   ]
  },
  {
   "cell_type": "markdown",
   "metadata": {},
   "source": [
    "# Preprocessing and Feature Engineering"
   ]
  },
  {
   "cell_type": "code",
   "execution_count": 8,
   "metadata": {},
   "outputs": [],
   "source": [
    "# Define categorical and continuous features to preprocess accordingly\n",
    "\n",
    "cat_cols = ['SpecialDay', 'Month', 'OperatingSystems', 'Browser',\n",
    "            'Region', 'TrafficType', 'VisitorType', 'Weekend']\n",
    "\n",
    "con_cols = ['Administrative', 'Administrative_Duration', 'Informational',\n",
    "            'Informational_Duration', 'ProductRelated', 'ProductRelated_Duration',\n",
    "            'BounceRates', 'ExitRates', 'PageValues']"
   ]
  },
  {
   "cell_type": "markdown",
   "metadata": {},
   "source": [
    "## Categorical Variables"
   ]
  },
  {
   "cell_type": "markdown",
   "metadata": {},
   "source": [
    "Even though there aren't any missing values at the moment, it doesn't mean we aren't going to have missing values in the future. Hence, the need for imputer.\n",
    "\n",
    "- **Imputation**: *Most frequent imputation* for simplicity and fast modeling. Other options *kNNimputer*, *IterativeImputer*, *Learned Complex Model*...\n",
    "- **Encoding**: *One Hot Encode* as there isn't high cardinality. Okay if not done or *Ordinal Encoding* for tree based algorithms but *OHE* has to be done for linear models."
   ]
  },
  {
   "cell_type": "code",
   "execution_count": 9,
   "metadata": {},
   "outputs": [],
   "source": [
    "# Pipeline for categorical variables\n",
    "\n",
    "cat_pipe = Pipeline([('imputer', SimpleImputer(missing_values=np.nan, strategy='most_frequent', add_indicator=True)), # Median Impute\n",
    "                     ('ohe', OneHotEncoder(handle_unknown='ignore'))]) # One Hot Encode"
   ]
  },
  {
   "cell_type": "markdown",
   "metadata": {},
   "source": [
    "## Continuous Variables"
   ]
  },
  {
   "cell_type": "markdown",
   "metadata": {},
   "source": [
    "Imputer is needed for same reasoning as categorical variables\n",
    "\n",
    "- **Imputation**: *Median imputation* for simplicity and fast modeling. Same options exist as categorical.\n",
    "- **Encoding**: *Variance scaling* as it makes modeling faster. Okay if not done for tree based models but improves linear models because of faster gradient descent."
   ]
  },
  {
   "cell_type": "code",
   "execution_count": 10,
   "metadata": {},
   "outputs": [],
   "source": [
    "# Pipeline for continuous variables\n",
    "\n",
    "con_pipe = Pipeline([('imputer', SimpleImputer(missing_values=np.nan, strategy='median', add_indicator=True)), # Mean Impute\n",
    "                     ('scaler', StandardScaler())]) # Variance scale"
   ]
  },
  {
   "cell_type": "markdown",
   "metadata": {},
   "source": [
    "## Column transformer to put everything together"
   ]
  },
  {
   "cell_type": "code",
   "execution_count": 11,
   "metadata": {},
   "outputs": [],
   "source": [
    "preprocessing = ColumnTransformer([('categorical', cat_pipe, cat_cols), # Preprocess categorical variables\n",
    "                                   ('continuous', con_pipe, con_cols)]) # Preprocess continuous variables"
   ]
  },
  {
   "cell_type": "code",
   "execution_count": 12,
   "metadata": {},
   "outputs": [
    {
     "data": {
      "text/html": [
       "<style>div.sk-top-container {color: black;background-color: white;}div.sk-toggleable {background-color: white;}label.sk-toggleable__label {cursor: pointer;display: block;width: 100%;margin-bottom: 0;padding: 0.2em 0.3em;box-sizing: border-box;text-align: center;}div.sk-toggleable__content {max-height: 0;max-width: 0;overflow: hidden;text-align: left;background-color: #f0f8ff;}div.sk-toggleable__content pre {margin: 0.2em;color: black;border-radius: 0.25em;background-color: #f0f8ff;}input.sk-toggleable__control:checked~div.sk-toggleable__content {max-height: 200px;max-width: 100%;overflow: auto;}div.sk-estimator input.sk-toggleable__control:checked~label.sk-toggleable__label {background-color: #d4ebff;}div.sk-label input.sk-toggleable__control:checked~label.sk-toggleable__label {background-color: #d4ebff;}input.sk-hidden--visually {border: 0;clip: rect(1px 1px 1px 1px);clip: rect(1px, 1px, 1px, 1px);height: 1px;margin: -1px;overflow: hidden;padding: 0;position: absolute;width: 1px;}div.sk-estimator {font-family: monospace;background-color: #f0f8ff;margin: 0.25em 0.25em;border: 1px dotted black;border-radius: 0.25em;box-sizing: border-box;}div.sk-estimator:hover {background-color: #d4ebff;}div.sk-parallel-item::after {content: \"\";width: 100%;border-bottom: 1px solid gray;flex-grow: 1;}div.sk-label:hover label.sk-toggleable__label {background-color: #d4ebff;}div.sk-serial::before {content: \"\";position: absolute;border-left: 1px solid gray;box-sizing: border-box;top: 2em;bottom: 0;left: 50%;}div.sk-serial {display: flex;flex-direction: column;align-items: center;background-color: white;}div.sk-item {z-index: 1;}div.sk-parallel {display: flex;align-items: stretch;justify-content: center;background-color: white;}div.sk-parallel-item {display: flex;flex-direction: column;position: relative;background-color: white;}div.sk-parallel-item:first-child::after {align-self: flex-end;width: 50%;}div.sk-parallel-item:last-child::after {align-self: flex-start;width: 50%;}div.sk-parallel-item:only-child::after {width: 0;}div.sk-dashed-wrapped {border: 1px dashed gray;margin: 0.2em;box-sizing: border-box;padding-bottom: 0.1em;background-color: white;position: relative;}div.sk-label label {font-family: monospace;font-weight: bold;background-color: white;display: inline-block;line-height: 1.2em;}div.sk-label-container {position: relative;z-index: 2;text-align: center;}div.sk-container {display: inline-block;position: relative;}</style><div class=\"sk-top-container\"><div class=\"sk-container\"><div class=\"sk-item sk-dashed-wrapped\"><div class=\"sk-label-container\"><div class=\"sk-label sk-toggleable\"><input class=\"sk-toggleable__control sk-hidden--visually\" id=\"c943875c-7f21-48f8-a4a1-a4680f677194\" type=\"checkbox\" ><label class=\"sk-toggleable__label\" for=\"c943875c-7f21-48f8-a4a1-a4680f677194\">ColumnTransformer</label><div class=\"sk-toggleable__content\"><pre>ColumnTransformer(transformers=[('categorical',\n",
       "                                 Pipeline(steps=[('imputer',\n",
       "                                                  SimpleImputer(add_indicator=True,\n",
       "                                                                strategy='most_frequent')),\n",
       "                                                 ('ohe',\n",
       "                                                  OneHotEncoder(handle_unknown='ignore'))]),\n",
       "                                 ['SpecialDay', 'Month', 'OperatingSystems',\n",
       "                                  'Browser', 'Region', 'TrafficType',\n",
       "                                  'VisitorType', 'Weekend']),\n",
       "                                ('continuous',\n",
       "                                 Pipeline(steps=[('imputer',\n",
       "                                                  SimpleImputer(add_indicator=True,\n",
       "                                                                strategy='median')),\n",
       "                                                 ('scaler', StandardScaler())]),\n",
       "                                 ['Administrative', 'Administrative_Duration',\n",
       "                                  'Informational', 'Informational_Duration',\n",
       "                                  'ProductRelated', 'ProductRelated_Duration',\n",
       "                                  'BounceRates', 'ExitRates', 'PageValues'])])</pre></div></div></div><div class=\"sk-parallel\"><div class=\"sk-parallel-item\"><div class=\"sk-item\"><div class=\"sk-label-container\"><div class=\"sk-label sk-toggleable\"><input class=\"sk-toggleable__control sk-hidden--visually\" id=\"f44d350d-c50e-4a5e-8363-3f74ec92fe83\" type=\"checkbox\" ><label class=\"sk-toggleable__label\" for=\"f44d350d-c50e-4a5e-8363-3f74ec92fe83\">categorical</label><div class=\"sk-toggleable__content\"><pre>['SpecialDay', 'Month', 'OperatingSystems', 'Browser', 'Region', 'TrafficType', 'VisitorType', 'Weekend']</pre></div></div></div><div class=\"sk-serial\"><div class=\"sk-item\"><div class=\"sk-serial\"><div class=\"sk-item\"><div class=\"sk-estimator sk-toggleable\"><input class=\"sk-toggleable__control sk-hidden--visually\" id=\"cbdc4a5a-7ed0-4dfe-8210-c18f490028de\" type=\"checkbox\" ><label class=\"sk-toggleable__label\" for=\"cbdc4a5a-7ed0-4dfe-8210-c18f490028de\">SimpleImputer</label><div class=\"sk-toggleable__content\"><pre>SimpleImputer(add_indicator=True, strategy='most_frequent')</pre></div></div></div><div class=\"sk-item\"><div class=\"sk-estimator sk-toggleable\"><input class=\"sk-toggleable__control sk-hidden--visually\" id=\"a02a316b-1e5e-47e5-a147-491fa32b123f\" type=\"checkbox\" ><label class=\"sk-toggleable__label\" for=\"a02a316b-1e5e-47e5-a147-491fa32b123f\">OneHotEncoder</label><div class=\"sk-toggleable__content\"><pre>OneHotEncoder(handle_unknown='ignore')</pre></div></div></div></div></div></div></div></div><div class=\"sk-parallel-item\"><div class=\"sk-item\"><div class=\"sk-label-container\"><div class=\"sk-label sk-toggleable\"><input class=\"sk-toggleable__control sk-hidden--visually\" id=\"056c71f9-fc6d-4435-8544-d036f10d0aae\" type=\"checkbox\" ><label class=\"sk-toggleable__label\" for=\"056c71f9-fc6d-4435-8544-d036f10d0aae\">continuous</label><div class=\"sk-toggleable__content\"><pre>['Administrative', 'Administrative_Duration', 'Informational', 'Informational_Duration', 'ProductRelated', 'ProductRelated_Duration', 'BounceRates', 'ExitRates', 'PageValues']</pre></div></div></div><div class=\"sk-serial\"><div class=\"sk-item\"><div class=\"sk-serial\"><div class=\"sk-item\"><div class=\"sk-estimator sk-toggleable\"><input class=\"sk-toggleable__control sk-hidden--visually\" id=\"40db9e6d-05ea-407e-89b1-50ff19aec835\" type=\"checkbox\" ><label class=\"sk-toggleable__label\" for=\"40db9e6d-05ea-407e-89b1-50ff19aec835\">SimpleImputer</label><div class=\"sk-toggleable__content\"><pre>SimpleImputer(add_indicator=True, strategy='median')</pre></div></div></div><div class=\"sk-item\"><div class=\"sk-estimator sk-toggleable\"><input class=\"sk-toggleable__control sk-hidden--visually\" id=\"63ff997d-ea6e-47f5-8a33-930a7e13020e\" type=\"checkbox\" ><label class=\"sk-toggleable__label\" for=\"63ff997d-ea6e-47f5-8a33-930a7e13020e\">StandardScaler</label><div class=\"sk-toggleable__content\"><pre>StandardScaler()</pre></div></div></div></div></div></div></div></div></div></div></div></div>"
      ],
      "text/plain": [
       "ColumnTransformer(transformers=[('categorical',\n",
       "                                 Pipeline(steps=[('imputer',\n",
       "                                                  SimpleImputer(add_indicator=True,\n",
       "                                                                strategy='most_frequent')),\n",
       "                                                 ('ohe',\n",
       "                                                  OneHotEncoder(handle_unknown='ignore'))]),\n",
       "                                 ['SpecialDay', 'Month', 'OperatingSystems',\n",
       "                                  'Browser', 'Region', 'TrafficType',\n",
       "                                  'VisitorType', 'Weekend']),\n",
       "                                ('continuous',\n",
       "                                 Pipeline(steps=[('imputer',\n",
       "                                                  SimpleImputer(add_indicator=True,\n",
       "                                                                strategy='median')),\n",
       "                                                 ('scaler', StandardScaler())]),\n",
       "                                 ['Administrative', 'Administrative_Duration',\n",
       "                                  'Informational', 'Informational_Duration',\n",
       "                                  'ProductRelated', 'ProductRelated_Duration',\n",
       "                                  'BounceRates', 'ExitRates', 'PageValues'])])"
      ]
     },
     "execution_count": 12,
     "metadata": {},
     "output_type": "execute_result"
    }
   ],
   "source": [
    "preprocessing # Show the steps for preprocessing"
   ]
  },
  {
   "cell_type": "markdown",
   "metadata": {},
   "source": [
    " "
   ]
  },
  {
   "cell_type": "markdown",
   "metadata": {},
   "source": [
    " "
   ]
  },
  {
   "cell_type": "markdown",
   "metadata": {},
   "source": [
    " "
   ]
  },
  {
   "cell_type": "markdown",
   "metadata": {},
   "source": [
    " "
   ]
  },
  {
   "cell_type": "markdown",
   "metadata": {},
   "source": [
    " "
   ]
  },
  {
   "cell_type": "markdown",
   "metadata": {},
   "source": [
    "# Algorithms & Search "
   ]
  },
  {
   "cell_type": "markdown",
   "metadata": {},
   "source": [
    "We want to use *imblearn pipeline* for hyperparameter search with cross validation as we have an imbalanced dataset and *sklearn pipeline* doesn't play well with over sampling methods"
   ]
  },
  {
   "cell_type": "markdown",
   "metadata": {},
   "source": [
    "- **Hyperparameter Search**: *RandomizedSearchCV* for faster search compared to grid search and it's still as accurate\n",
    "- **Over Sampling**: *SMOTE* technique will be used for over sampling as it creates synthetic (not duplicate) samples of the minority class for model to notice\n",
    "- **CV Scoring Metric**: *balanced accuracy* to chose the best model from the *RandomizedSearchCV* as we have an imbalanced dataset and it's a suitable metric for the business case. Other metrics will be evaluated for the Test set *f1 score*, *precision*, *recall*..."
   ]
  },
  {
   "cell_type": "markdown",
   "metadata": {},
   "source": [
    "## Logistic Regression"
   ]
  },
  {
   "cell_type": "code",
   "execution_count": 13,
   "metadata": {},
   "outputs": [],
   "source": [
    "# create a pipeline for linear regression\n",
    "\n",
    "lr_pipe = make_pipeline(                                    \n",
    "                        preprocessing,                      # preprocessing pipeline we created before\n",
    "                        imblearn.over_sampling.SMOTE(),     # upsample using SMOTE\n",
    "                        LogisticRegression()                # algorithm to use\n",
    "                       )\n",
    "\n",
    "# hyperparameter search space\n",
    "\n",
    "hyperparameters = dict(smote__k_neighbors = [2, 3, 5],                             # k-neighbors to look for in SMOTE\n",
    "                       logisticregression__penalty = ['l1', 'l2'],                 # penalty term (lasso or ridge respectively)\n",
    "                       logisticregression__class_weight=['balanced', None],        # class weights\n",
    "                       logisticregression__solver=['lbfgs', 'liblinear'],          # solver types for logistic regression\n",
    "                       logisticregression__C=np.logspace(0, 4, 10),                # Inverse regularization strength\n",
    "                       logisticregression__max_iter=np.linspace(50, 250, 5))       # Maximum number of iterations taken for the solvers to converge\n",
    "\n",
    "# Randomized Search Cross Validation\n",
    "\n",
    "lr_rand_cv = RandomizedSearchCV(estimator = lr_pipe,                  # use the pipe as an estimator\n",
    "                                param_distributions=hyperparameters,  # hyperparameters to search\n",
    "                                scoring='balanced_accuracy',          # chose best model based on this metric\n",
    "                                n_iter = 100,                         # do CV for 100 different models with different combination of hyperparameters\n",
    "                                cv = 5,                               # 5 fold CV\n",
    "                                n_jobs=-1,                            # use all cores\n",
    "                                verbose=True)"
   ]
  },
  {
   "cell_type": "code",
   "execution_count": 14,
   "metadata": {},
   "outputs": [
    {
     "name": "stdout",
     "output_type": "stream",
     "text": [
      "Fitting 5 folds for each of 100 candidates, totalling 500 fits\n",
      "CPU times: user 2.98 s, sys: 352 ms, total: 3.34 s\n",
      "Wall time: 41.2 s\n"
     ]
    },
    {
     "data": {
      "text/html": [
       "<style>div.sk-top-container {color: black;background-color: white;}div.sk-toggleable {background-color: white;}label.sk-toggleable__label {cursor: pointer;display: block;width: 100%;margin-bottom: 0;padding: 0.2em 0.3em;box-sizing: border-box;text-align: center;}div.sk-toggleable__content {max-height: 0;max-width: 0;overflow: hidden;text-align: left;background-color: #f0f8ff;}div.sk-toggleable__content pre {margin: 0.2em;color: black;border-radius: 0.25em;background-color: #f0f8ff;}input.sk-toggleable__control:checked~div.sk-toggleable__content {max-height: 200px;max-width: 100%;overflow: auto;}div.sk-estimator input.sk-toggleable__control:checked~label.sk-toggleable__label {background-color: #d4ebff;}div.sk-label input.sk-toggleable__control:checked~label.sk-toggleable__label {background-color: #d4ebff;}input.sk-hidden--visually {border: 0;clip: rect(1px 1px 1px 1px);clip: rect(1px, 1px, 1px, 1px);height: 1px;margin: -1px;overflow: hidden;padding: 0;position: absolute;width: 1px;}div.sk-estimator {font-family: monospace;background-color: #f0f8ff;margin: 0.25em 0.25em;border: 1px dotted black;border-radius: 0.25em;box-sizing: border-box;}div.sk-estimator:hover {background-color: #d4ebff;}div.sk-parallel-item::after {content: \"\";width: 100%;border-bottom: 1px solid gray;flex-grow: 1;}div.sk-label:hover label.sk-toggleable__label {background-color: #d4ebff;}div.sk-serial::before {content: \"\";position: absolute;border-left: 1px solid gray;box-sizing: border-box;top: 2em;bottom: 0;left: 50%;}div.sk-serial {display: flex;flex-direction: column;align-items: center;background-color: white;}div.sk-item {z-index: 1;}div.sk-parallel {display: flex;align-items: stretch;justify-content: center;background-color: white;}div.sk-parallel-item {display: flex;flex-direction: column;position: relative;background-color: white;}div.sk-parallel-item:first-child::after {align-self: flex-end;width: 50%;}div.sk-parallel-item:last-child::after {align-self: flex-start;width: 50%;}div.sk-parallel-item:only-child::after {width: 0;}div.sk-dashed-wrapped {border: 1px dashed gray;margin: 0.2em;box-sizing: border-box;padding-bottom: 0.1em;background-color: white;position: relative;}div.sk-label label {font-family: monospace;font-weight: bold;background-color: white;display: inline-block;line-height: 1.2em;}div.sk-label-container {position: relative;z-index: 2;text-align: center;}div.sk-container {display: inline-block;position: relative;}</style><div class=\"sk-top-container\"><div class=\"sk-container\"><div class=\"sk-item sk-dashed-wrapped\"><div class=\"sk-label-container\"><div class=\"sk-label sk-toggleable\"><input class=\"sk-toggleable__control sk-hidden--visually\" id=\"3105404d-9f53-4f80-9662-e4eb851231de\" type=\"checkbox\" ><label class=\"sk-toggleable__label\" for=\"3105404d-9f53-4f80-9662-e4eb851231de\">RandomizedSearchCV</label><div class=\"sk-toggleable__content\"><pre>RandomizedSearchCV(cv=5,\n",
       "                   estimator=Pipeline(steps=[('columntransformer',\n",
       "                                              ColumnTransformer(transformers=[('categorical',\n",
       "                                                                               Pipeline(steps=[('imputer',\n",
       "                                                                                                SimpleImputer(add_indicator=True,\n",
       "                                                                                                              strategy='most_frequent')),\n",
       "                                                                                               ('ohe',\n",
       "                                                                                                OneHotEncoder(handle_unknown='ignore'))]),\n",
       "                                                                               ['SpecialDay',\n",
       "                                                                                'Month',\n",
       "                                                                                'OperatingSystems',\n",
       "                                                                                'Browser',\n",
       "                                                                                'Region',\n",
       "                                                                                'TrafficType',\n",
       "                                                                                'VisitorType',\n",
       "                                                                                'Weekend...\n",
       "       5.99484250e+01, 1.66810054e+02, 4.64158883e+02, 1.29154967e+03,\n",
       "       3.59381366e+03, 1.00000000e+04]),\n",
       "                                        'logisticregression__class_weight': ['balanced',\n",
       "                                                                             None],\n",
       "                                        'logisticregression__max_iter': array([ 50., 100., 150., 200., 250.]),\n",
       "                                        'logisticregression__penalty': ['l1',\n",
       "                                                                        'l2'],\n",
       "                                        'logisticregression__solver': ['lbfgs',\n",
       "                                                                       'liblinear'],\n",
       "                                        'smote__k_neighbors': [2, 3, 5]},\n",
       "                   scoring='balanced_accuracy', verbose=True)</pre></div></div></div><div class=\"sk-parallel\"><div class=\"sk-parallel-item\"><div class=\"sk-item\"><div class=\"sk-serial\"><div class=\"sk-item\"><div class=\"sk-serial\"><div class=\"sk-item sk-dashed-wrapped\"><div class=\"sk-label-container\"><div class=\"sk-label sk-toggleable\"><input class=\"sk-toggleable__control sk-hidden--visually\" id=\"75918d40-d112-469c-8a88-a9ef73a0793a\" type=\"checkbox\" ><label class=\"sk-toggleable__label\" for=\"75918d40-d112-469c-8a88-a9ef73a0793a\">columntransformer: ColumnTransformer</label><div class=\"sk-toggleable__content\"><pre>ColumnTransformer(transformers=[('categorical',\n",
       "                                 Pipeline(steps=[('imputer',\n",
       "                                                  SimpleImputer(add_indicator=True,\n",
       "                                                                strategy='most_frequent')),\n",
       "                                                 ('ohe',\n",
       "                                                  OneHotEncoder(handle_unknown='ignore'))]),\n",
       "                                 ['SpecialDay', 'Month', 'OperatingSystems',\n",
       "                                  'Browser', 'Region', 'TrafficType',\n",
       "                                  'VisitorType', 'Weekend']),\n",
       "                                ('continuous',\n",
       "                                 Pipeline(steps=[('imputer',\n",
       "                                                  SimpleImputer(add_indicator=True,\n",
       "                                                                strategy='median')),\n",
       "                                                 ('scaler', StandardScaler())]),\n",
       "                                 ['Administrative', 'Administrative_Duration',\n",
       "                                  'Informational', 'Informational_Duration',\n",
       "                                  'ProductRelated', 'ProductRelated_Duration',\n",
       "                                  'BounceRates', 'ExitRates', 'PageValues'])])</pre></div></div></div><div class=\"sk-parallel\"><div class=\"sk-parallel-item\"><div class=\"sk-item\"><div class=\"sk-label-container\"><div class=\"sk-label sk-toggleable\"><input class=\"sk-toggleable__control sk-hidden--visually\" id=\"12421a9c-feb9-44dc-85c4-e62c74f6a866\" type=\"checkbox\" ><label class=\"sk-toggleable__label\" for=\"12421a9c-feb9-44dc-85c4-e62c74f6a866\">categorical</label><div class=\"sk-toggleable__content\"><pre>['SpecialDay', 'Month', 'OperatingSystems', 'Browser', 'Region', 'TrafficType', 'VisitorType', 'Weekend']</pre></div></div></div><div class=\"sk-serial\"><div class=\"sk-item\"><div class=\"sk-serial\"><div class=\"sk-item\"><div class=\"sk-estimator sk-toggleable\"><input class=\"sk-toggleable__control sk-hidden--visually\" id=\"ebfbbaf4-0c8e-4106-9846-ba7fdb41199f\" type=\"checkbox\" ><label class=\"sk-toggleable__label\" for=\"ebfbbaf4-0c8e-4106-9846-ba7fdb41199f\">SimpleImputer</label><div class=\"sk-toggleable__content\"><pre>SimpleImputer(add_indicator=True, strategy='most_frequent')</pre></div></div></div><div class=\"sk-item\"><div class=\"sk-estimator sk-toggleable\"><input class=\"sk-toggleable__control sk-hidden--visually\" id=\"8bc0d627-c351-4283-8c5f-ad58f3dd1514\" type=\"checkbox\" ><label class=\"sk-toggleable__label\" for=\"8bc0d627-c351-4283-8c5f-ad58f3dd1514\">OneHotEncoder</label><div class=\"sk-toggleable__content\"><pre>OneHotEncoder(handle_unknown='ignore')</pre></div></div></div></div></div></div></div></div><div class=\"sk-parallel-item\"><div class=\"sk-item\"><div class=\"sk-label-container\"><div class=\"sk-label sk-toggleable\"><input class=\"sk-toggleable__control sk-hidden--visually\" id=\"d5d48a68-266e-40e6-b0a4-d02db5de21ef\" type=\"checkbox\" ><label class=\"sk-toggleable__label\" for=\"d5d48a68-266e-40e6-b0a4-d02db5de21ef\">continuous</label><div class=\"sk-toggleable__content\"><pre>['Administrative', 'Administrative_Duration', 'Informational', 'Informational_Duration', 'ProductRelated', 'ProductRelated_Duration', 'BounceRates', 'ExitRates', 'PageValues']</pre></div></div></div><div class=\"sk-serial\"><div class=\"sk-item\"><div class=\"sk-serial\"><div class=\"sk-item\"><div class=\"sk-estimator sk-toggleable\"><input class=\"sk-toggleable__control sk-hidden--visually\" id=\"6d2d2cc2-4125-4947-91c5-9170bf8f4b0d\" type=\"checkbox\" ><label class=\"sk-toggleable__label\" for=\"6d2d2cc2-4125-4947-91c5-9170bf8f4b0d\">SimpleImputer</label><div class=\"sk-toggleable__content\"><pre>SimpleImputer(add_indicator=True, strategy='median')</pre></div></div></div><div class=\"sk-item\"><div class=\"sk-estimator sk-toggleable\"><input class=\"sk-toggleable__control sk-hidden--visually\" id=\"dd05c98d-f703-4cce-a74f-b57ea5cd6374\" type=\"checkbox\" ><label class=\"sk-toggleable__label\" for=\"dd05c98d-f703-4cce-a74f-b57ea5cd6374\">StandardScaler</label><div class=\"sk-toggleable__content\"><pre>StandardScaler()</pre></div></div></div></div></div></div></div></div></div></div><div class=\"sk-item\"><div class=\"sk-estimator sk-toggleable\"><input class=\"sk-toggleable__control sk-hidden--visually\" id=\"988bff0b-d343-49d3-af5f-607f86f504af\" type=\"checkbox\" ><label class=\"sk-toggleable__label\" for=\"988bff0b-d343-49d3-af5f-607f86f504af\">SMOTE</label><div class=\"sk-toggleable__content\"><pre>SMOTE()</pre></div></div></div><div class=\"sk-item\"><div class=\"sk-estimator sk-toggleable\"><input class=\"sk-toggleable__control sk-hidden--visually\" id=\"50494c60-f034-4aa1-a703-44d48dfde639\" type=\"checkbox\" ><label class=\"sk-toggleable__label\" for=\"50494c60-f034-4aa1-a703-44d48dfde639\">LogisticRegression</label><div class=\"sk-toggleable__content\"><pre>LogisticRegression()</pre></div></div></div></div></div></div></div></div></div></div></div></div>"
      ],
      "text/plain": [
       "RandomizedSearchCV(cv=5,\n",
       "                   estimator=Pipeline(steps=[('columntransformer',\n",
       "                                              ColumnTransformer(transformers=[('categorical',\n",
       "                                                                               Pipeline(steps=[('imputer',\n",
       "                                                                                                SimpleImputer(add_indicator=True,\n",
       "                                                                                                              strategy='most_frequent')),\n",
       "                                                                                               ('ohe',\n",
       "                                                                                                OneHotEncoder(handle_unknown='ignore'))]),\n",
       "                                                                               ['SpecialDay',\n",
       "                                                                                'Month',\n",
       "                                                                                'OperatingSystems',\n",
       "                                                                                'Browser',\n",
       "                                                                                'Region',\n",
       "                                                                                'TrafficType',\n",
       "                                                                                'VisitorType',\n",
       "                                                                                'Weekend...\n",
       "       5.99484250e+01, 1.66810054e+02, 4.64158883e+02, 1.29154967e+03,\n",
       "       3.59381366e+03, 1.00000000e+04]),\n",
       "                                        'logisticregression__class_weight': ['balanced',\n",
       "                                                                             None],\n",
       "                                        'logisticregression__max_iter': array([ 50., 100., 150., 200., 250.]),\n",
       "                                        'logisticregression__penalty': ['l1',\n",
       "                                                                        'l2'],\n",
       "                                        'logisticregression__solver': ['lbfgs',\n",
       "                                                                       'liblinear'],\n",
       "                                        'smote__k_neighbors': [2, 3, 5]},\n",
       "                   scoring='balanced_accuracy', verbose=True)"
      ]
     },
     "execution_count": 14,
     "metadata": {},
     "output_type": "execute_result"
    }
   ],
   "source": [
    "%time lr_rand_cv.fit(X_train, y_train);"
   ]
  },
  {
   "cell_type": "code",
   "execution_count": 15,
   "metadata": {},
   "outputs": [
    {
     "data": {
      "text/plain": [
       "0.8171797746576777"
      ]
     },
     "execution_count": 15,
     "metadata": {},
     "output_type": "execute_result"
    }
   ],
   "source": [
    "# Best model's CV balanced accuracy score\n",
    "\n",
    "lr_rand_cv.best_score_"
   ]
  },
  {
   "cell_type": "markdown",
   "metadata": {},
   "source": [
    "## Random Forest"
   ]
  },
  {
   "cell_type": "markdown",
   "metadata": {},
   "source": [
    "Some advantages over Linear Regression in general:\n",
    "\n",
    "- **Less hyperparameters** to search for compared to *Logistic Regression*\n",
    "- Can take care of modeling without needing to *One Hot Encode* the categorical variables and *scaling* continuous variables\n",
    "- Tends to perform better with **tabular** and **imbalanced data**\n",
    "\n",
    "Disadvantage:\n",
    "\n",
    "- Can **not extrapolate** like *Logistic Regression*\n",
    "- Slower CV hyperparameter search"
   ]
  },
  {
   "cell_type": "code",
   "execution_count": 16,
   "metadata": {},
   "outputs": [],
   "source": [
    "# create a pipeline for random forest\n",
    "\n",
    "rf_pipe = make_pipeline(                                    \n",
    "                        preprocessing,                      # preprocessing pipeline we created before\n",
    "                        imblearn.over_sampling.SMOTE(),     # upsample using SMOTE\n",
    "                        RandomForestClassifier()            # algorithm to use\n",
    "                       )\n",
    "\n",
    "# hyperparameter search space\n",
    "\n",
    "hyperparameters = dict(smote__k_neighbors = [2, 3, 5],                                  # k-neighbors to look for in SMOTE\n",
    "                       randomforestclassifier__max_depth=[5,10,20,30,40],               # max depth of a single tree in the forest\n",
    "                       randomforestclassifier__min_samples_leaf=[1,2,3,4,5],            # min sample \n",
    "                       randomforestclassifier__max_features=['auto', 'sqrt', 'log2'])   # max number of features to look at                  \n",
    "                       \n",
    "\n",
    "# Randomized Search Cross Validation\n",
    "\n",
    "rf_rand_cv = RandomizedSearchCV(estimator = rf_pipe,                  # use the pipe as an estimator\n",
    "                                param_distributions=hyperparameters,  # hyperparameters to search\n",
    "                                scoring='balanced_accuracy',          # chose best model based on this metric\n",
    "                                n_iter = 100,                         # do CV for 100 different models with different combination of hyperparameters\n",
    "                                cv = 5,                               # 5 fold CV\n",
    "                                n_jobs=-1,                            # use all cores\n",
    "                                verbose=True)"
   ]
  },
  {
   "cell_type": "code",
   "execution_count": 17,
   "metadata": {},
   "outputs": [
    {
     "name": "stdout",
     "output_type": "stream",
     "text": [
      "Fitting 5 folds for each of 100 candidates, totalling 500 fits\n",
      "CPU times: user 5.68 s, sys: 241 ms, total: 5.92 s\n",
      "Wall time: 5min 17s\n"
     ]
    },
    {
     "data": {
      "text/html": [
       "<style>div.sk-top-container {color: black;background-color: white;}div.sk-toggleable {background-color: white;}label.sk-toggleable__label {cursor: pointer;display: block;width: 100%;margin-bottom: 0;padding: 0.2em 0.3em;box-sizing: border-box;text-align: center;}div.sk-toggleable__content {max-height: 0;max-width: 0;overflow: hidden;text-align: left;background-color: #f0f8ff;}div.sk-toggleable__content pre {margin: 0.2em;color: black;border-radius: 0.25em;background-color: #f0f8ff;}input.sk-toggleable__control:checked~div.sk-toggleable__content {max-height: 200px;max-width: 100%;overflow: auto;}div.sk-estimator input.sk-toggleable__control:checked~label.sk-toggleable__label {background-color: #d4ebff;}div.sk-label input.sk-toggleable__control:checked~label.sk-toggleable__label {background-color: #d4ebff;}input.sk-hidden--visually {border: 0;clip: rect(1px 1px 1px 1px);clip: rect(1px, 1px, 1px, 1px);height: 1px;margin: -1px;overflow: hidden;padding: 0;position: absolute;width: 1px;}div.sk-estimator {font-family: monospace;background-color: #f0f8ff;margin: 0.25em 0.25em;border: 1px dotted black;border-radius: 0.25em;box-sizing: border-box;}div.sk-estimator:hover {background-color: #d4ebff;}div.sk-parallel-item::after {content: \"\";width: 100%;border-bottom: 1px solid gray;flex-grow: 1;}div.sk-label:hover label.sk-toggleable__label {background-color: #d4ebff;}div.sk-serial::before {content: \"\";position: absolute;border-left: 1px solid gray;box-sizing: border-box;top: 2em;bottom: 0;left: 50%;}div.sk-serial {display: flex;flex-direction: column;align-items: center;background-color: white;}div.sk-item {z-index: 1;}div.sk-parallel {display: flex;align-items: stretch;justify-content: center;background-color: white;}div.sk-parallel-item {display: flex;flex-direction: column;position: relative;background-color: white;}div.sk-parallel-item:first-child::after {align-self: flex-end;width: 50%;}div.sk-parallel-item:last-child::after {align-self: flex-start;width: 50%;}div.sk-parallel-item:only-child::after {width: 0;}div.sk-dashed-wrapped {border: 1px dashed gray;margin: 0.2em;box-sizing: border-box;padding-bottom: 0.1em;background-color: white;position: relative;}div.sk-label label {font-family: monospace;font-weight: bold;background-color: white;display: inline-block;line-height: 1.2em;}div.sk-label-container {position: relative;z-index: 2;text-align: center;}div.sk-container {display: inline-block;position: relative;}</style><div class=\"sk-top-container\"><div class=\"sk-container\"><div class=\"sk-item sk-dashed-wrapped\"><div class=\"sk-label-container\"><div class=\"sk-label sk-toggleable\"><input class=\"sk-toggleable__control sk-hidden--visually\" id=\"194b62ea-6fa0-4547-bada-a46cffc8f77f\" type=\"checkbox\" ><label class=\"sk-toggleable__label\" for=\"194b62ea-6fa0-4547-bada-a46cffc8f77f\">RandomizedSearchCV</label><div class=\"sk-toggleable__content\"><pre>RandomizedSearchCV(cv=5,\n",
       "                   estimator=Pipeline(steps=[('columntransformer',\n",
       "                                              ColumnTransformer(transformers=[('categorical',\n",
       "                                                                               Pipeline(steps=[('imputer',\n",
       "                                                                                                SimpleImputer(add_indicator=True,\n",
       "                                                                                                              strategy='most_frequent')),\n",
       "                                                                                               ('ohe',\n",
       "                                                                                                OneHotEncoder(handle_unknown='ignore'))]),\n",
       "                                                                               ['SpecialDay',\n",
       "                                                                                'Month',\n",
       "                                                                                'OperatingSystems',\n",
       "                                                                                'Browser',\n",
       "                                                                                'Region',\n",
       "                                                                                'TrafficType',\n",
       "                                                                                'VisitorType',\n",
       "                                                                                'Weekend...\n",
       "                                             ('smote', SMOTE()),\n",
       "                                             ('randomforestclassifier',\n",
       "                                              RandomForestClassifier())]),\n",
       "                   n_iter=100, n_jobs=-1,\n",
       "                   param_distributions={'randomforestclassifier__max_depth': [5,\n",
       "                                                                              10,\n",
       "                                                                              20,\n",
       "                                                                              30,\n",
       "                                                                              40],\n",
       "                                        'randomforestclassifier__max_features': ['auto',\n",
       "                                                                                 'sqrt',\n",
       "                                                                                 'log'],\n",
       "                                        'randomforestclassifier__min_samples_leaf': [1,\n",
       "                                                                                     2,\n",
       "                                                                                     3,\n",
       "                                                                                     4,\n",
       "                                                                                     5],\n",
       "                                        'smote__k_neighbors': [2, 3, 5]},\n",
       "                   scoring='balanced_accuracy', verbose=True)</pre></div></div></div><div class=\"sk-parallel\"><div class=\"sk-parallel-item\"><div class=\"sk-item\"><div class=\"sk-serial\"><div class=\"sk-item\"><div class=\"sk-serial\"><div class=\"sk-item sk-dashed-wrapped\"><div class=\"sk-label-container\"><div class=\"sk-label sk-toggleable\"><input class=\"sk-toggleable__control sk-hidden--visually\" id=\"0e0c478d-2369-461d-bcc8-22cba6b62bda\" type=\"checkbox\" ><label class=\"sk-toggleable__label\" for=\"0e0c478d-2369-461d-bcc8-22cba6b62bda\">columntransformer: ColumnTransformer</label><div class=\"sk-toggleable__content\"><pre>ColumnTransformer(transformers=[('categorical',\n",
       "                                 Pipeline(steps=[('imputer',\n",
       "                                                  SimpleImputer(add_indicator=True,\n",
       "                                                                strategy='most_frequent')),\n",
       "                                                 ('ohe',\n",
       "                                                  OneHotEncoder(handle_unknown='ignore'))]),\n",
       "                                 ['SpecialDay', 'Month', 'OperatingSystems',\n",
       "                                  'Browser', 'Region', 'TrafficType',\n",
       "                                  'VisitorType', 'Weekend']),\n",
       "                                ('continuous',\n",
       "                                 Pipeline(steps=[('imputer',\n",
       "                                                  SimpleImputer(add_indicator=True,\n",
       "                                                                strategy='median')),\n",
       "                                                 ('scaler', StandardScaler())]),\n",
       "                                 ['Administrative', 'Administrative_Duration',\n",
       "                                  'Informational', 'Informational_Duration',\n",
       "                                  'ProductRelated', 'ProductRelated_Duration',\n",
       "                                  'BounceRates', 'ExitRates', 'PageValues'])])</pre></div></div></div><div class=\"sk-parallel\"><div class=\"sk-parallel-item\"><div class=\"sk-item\"><div class=\"sk-label-container\"><div class=\"sk-label sk-toggleable\"><input class=\"sk-toggleable__control sk-hidden--visually\" id=\"92699367-8212-4010-ad7c-d4493250d58d\" type=\"checkbox\" ><label class=\"sk-toggleable__label\" for=\"92699367-8212-4010-ad7c-d4493250d58d\">categorical</label><div class=\"sk-toggleable__content\"><pre>['SpecialDay', 'Month', 'OperatingSystems', 'Browser', 'Region', 'TrafficType', 'VisitorType', 'Weekend']</pre></div></div></div><div class=\"sk-serial\"><div class=\"sk-item\"><div class=\"sk-serial\"><div class=\"sk-item\"><div class=\"sk-estimator sk-toggleable\"><input class=\"sk-toggleable__control sk-hidden--visually\" id=\"9b12feea-a7ca-4c9d-ae14-0ad7161a026d\" type=\"checkbox\" ><label class=\"sk-toggleable__label\" for=\"9b12feea-a7ca-4c9d-ae14-0ad7161a026d\">SimpleImputer</label><div class=\"sk-toggleable__content\"><pre>SimpleImputer(add_indicator=True, strategy='most_frequent')</pre></div></div></div><div class=\"sk-item\"><div class=\"sk-estimator sk-toggleable\"><input class=\"sk-toggleable__control sk-hidden--visually\" id=\"a5a41797-dcae-49f8-ac55-f4178467c084\" type=\"checkbox\" ><label class=\"sk-toggleable__label\" for=\"a5a41797-dcae-49f8-ac55-f4178467c084\">OneHotEncoder</label><div class=\"sk-toggleable__content\"><pre>OneHotEncoder(handle_unknown='ignore')</pre></div></div></div></div></div></div></div></div><div class=\"sk-parallel-item\"><div class=\"sk-item\"><div class=\"sk-label-container\"><div class=\"sk-label sk-toggleable\"><input class=\"sk-toggleable__control sk-hidden--visually\" id=\"a15b4e6c-53bb-46ac-8509-2e3a0d41a5cf\" type=\"checkbox\" ><label class=\"sk-toggleable__label\" for=\"a15b4e6c-53bb-46ac-8509-2e3a0d41a5cf\">continuous</label><div class=\"sk-toggleable__content\"><pre>['Administrative', 'Administrative_Duration', 'Informational', 'Informational_Duration', 'ProductRelated', 'ProductRelated_Duration', 'BounceRates', 'ExitRates', 'PageValues']</pre></div></div></div><div class=\"sk-serial\"><div class=\"sk-item\"><div class=\"sk-serial\"><div class=\"sk-item\"><div class=\"sk-estimator sk-toggleable\"><input class=\"sk-toggleable__control sk-hidden--visually\" id=\"efd2adee-346f-44e8-90b5-24959176fd44\" type=\"checkbox\" ><label class=\"sk-toggleable__label\" for=\"efd2adee-346f-44e8-90b5-24959176fd44\">SimpleImputer</label><div class=\"sk-toggleable__content\"><pre>SimpleImputer(add_indicator=True, strategy='median')</pre></div></div></div><div class=\"sk-item\"><div class=\"sk-estimator sk-toggleable\"><input class=\"sk-toggleable__control sk-hidden--visually\" id=\"ca72c824-4125-4c76-bedc-cc1fd90661a9\" type=\"checkbox\" ><label class=\"sk-toggleable__label\" for=\"ca72c824-4125-4c76-bedc-cc1fd90661a9\">StandardScaler</label><div class=\"sk-toggleable__content\"><pre>StandardScaler()</pre></div></div></div></div></div></div></div></div></div></div><div class=\"sk-item\"><div class=\"sk-estimator sk-toggleable\"><input class=\"sk-toggleable__control sk-hidden--visually\" id=\"6370e29b-019b-487b-9dfb-7e7d95309478\" type=\"checkbox\" ><label class=\"sk-toggleable__label\" for=\"6370e29b-019b-487b-9dfb-7e7d95309478\">SMOTE</label><div class=\"sk-toggleable__content\"><pre>SMOTE()</pre></div></div></div><div class=\"sk-item\"><div class=\"sk-estimator sk-toggleable\"><input class=\"sk-toggleable__control sk-hidden--visually\" id=\"1961a9ba-3736-41a2-b52d-dc89a6879352\" type=\"checkbox\" ><label class=\"sk-toggleable__label\" for=\"1961a9ba-3736-41a2-b52d-dc89a6879352\">RandomForestClassifier</label><div class=\"sk-toggleable__content\"><pre>RandomForestClassifier()</pre></div></div></div></div></div></div></div></div></div></div></div></div>"
      ],
      "text/plain": [
       "RandomizedSearchCV(cv=5,\n",
       "                   estimator=Pipeline(steps=[('columntransformer',\n",
       "                                              ColumnTransformer(transformers=[('categorical',\n",
       "                                                                               Pipeline(steps=[('imputer',\n",
       "                                                                                                SimpleImputer(add_indicator=True,\n",
       "                                                                                                              strategy='most_frequent')),\n",
       "                                                                                               ('ohe',\n",
       "                                                                                                OneHotEncoder(handle_unknown='ignore'))]),\n",
       "                                                                               ['SpecialDay',\n",
       "                                                                                'Month',\n",
       "                                                                                'OperatingSystems',\n",
       "                                                                                'Browser',\n",
       "                                                                                'Region',\n",
       "                                                                                'TrafficType',\n",
       "                                                                                'VisitorType',\n",
       "                                                                                'Weekend...\n",
       "                                             ('smote', SMOTE()),\n",
       "                                             ('randomforestclassifier',\n",
       "                                              RandomForestClassifier())]),\n",
       "                   n_iter=100, n_jobs=-1,\n",
       "                   param_distributions={'randomforestclassifier__max_depth': [5,\n",
       "                                                                              10,\n",
       "                                                                              20,\n",
       "                                                                              30,\n",
       "                                                                              40],\n",
       "                                        'randomforestclassifier__max_features': ['auto',\n",
       "                                                                                 'sqrt',\n",
       "                                                                                 'log'],\n",
       "                                        'randomforestclassifier__min_samples_leaf': [1,\n",
       "                                                                                     2,\n",
       "                                                                                     3,\n",
       "                                                                                     4,\n",
       "                                                                                     5],\n",
       "                                        'smote__k_neighbors': [2, 3, 5]},\n",
       "                   scoring='balanced_accuracy', verbose=True)"
      ]
     },
     "execution_count": 17,
     "metadata": {},
     "output_type": "execute_result"
    }
   ],
   "source": [
    "%time rf_rand_cv.fit(X_train, y_train);"
   ]
  },
  {
   "cell_type": "code",
   "execution_count": 18,
   "metadata": {},
   "outputs": [
    {
     "data": {
      "text/plain": [
       "0.8450827412316435"
      ]
     },
     "execution_count": 18,
     "metadata": {},
     "output_type": "execute_result"
    }
   ],
   "source": [
    "# Best random forest model's CV balanced accuracy score\n",
    "\n",
    "rf_rand_cv.best_score_"
   ]
  },
  {
   "cell_type": "markdown",
   "metadata": {},
   "source": [
    "# Results"
   ]
  },
  {
   "cell_type": "markdown",
   "metadata": {},
   "source": [
    "## Champion Final Model"
   ]
  },
  {
   "cell_type": "markdown",
   "metadata": {},
   "source": [
    "- According to the CV balanced accuracy score results, better algorithm is **Random Forest**\n",
    "- Let's get some more insight about our best model by looking at the whole pipeline, hyperparameters, feature importances and metrics on testing set"
   ]
  },
  {
   "cell_type": "code",
   "execution_count": 19,
   "metadata": {},
   "outputs": [],
   "source": [
    "# Pick the best model from Randomized Search CV\n",
    "\n",
    "best_model = rf_rand_cv.best_estimator_"
   ]
  },
  {
   "cell_type": "markdown",
   "metadata": {},
   "source": [
    "### Pipeline steps and non-default Hyperparameters of the Best Model"
   ]
  },
  {
   "cell_type": "code",
   "execution_count": 20,
   "metadata": {},
   "outputs": [
    {
     "data": {
      "text/html": [
       "<style>div.sk-top-container {color: black;background-color: white;}div.sk-toggleable {background-color: white;}label.sk-toggleable__label {cursor: pointer;display: block;width: 100%;margin-bottom: 0;padding: 0.2em 0.3em;box-sizing: border-box;text-align: center;}div.sk-toggleable__content {max-height: 0;max-width: 0;overflow: hidden;text-align: left;background-color: #f0f8ff;}div.sk-toggleable__content pre {margin: 0.2em;color: black;border-radius: 0.25em;background-color: #f0f8ff;}input.sk-toggleable__control:checked~div.sk-toggleable__content {max-height: 200px;max-width: 100%;overflow: auto;}div.sk-estimator input.sk-toggleable__control:checked~label.sk-toggleable__label {background-color: #d4ebff;}div.sk-label input.sk-toggleable__control:checked~label.sk-toggleable__label {background-color: #d4ebff;}input.sk-hidden--visually {border: 0;clip: rect(1px 1px 1px 1px);clip: rect(1px, 1px, 1px, 1px);height: 1px;margin: -1px;overflow: hidden;padding: 0;position: absolute;width: 1px;}div.sk-estimator {font-family: monospace;background-color: #f0f8ff;margin: 0.25em 0.25em;border: 1px dotted black;border-radius: 0.25em;box-sizing: border-box;}div.sk-estimator:hover {background-color: #d4ebff;}div.sk-parallel-item::after {content: \"\";width: 100%;border-bottom: 1px solid gray;flex-grow: 1;}div.sk-label:hover label.sk-toggleable__label {background-color: #d4ebff;}div.sk-serial::before {content: \"\";position: absolute;border-left: 1px solid gray;box-sizing: border-box;top: 2em;bottom: 0;left: 50%;}div.sk-serial {display: flex;flex-direction: column;align-items: center;background-color: white;}div.sk-item {z-index: 1;}div.sk-parallel {display: flex;align-items: stretch;justify-content: center;background-color: white;}div.sk-parallel-item {display: flex;flex-direction: column;position: relative;background-color: white;}div.sk-parallel-item:first-child::after {align-self: flex-end;width: 50%;}div.sk-parallel-item:last-child::after {align-self: flex-start;width: 50%;}div.sk-parallel-item:only-child::after {width: 0;}div.sk-dashed-wrapped {border: 1px dashed gray;margin: 0.2em;box-sizing: border-box;padding-bottom: 0.1em;background-color: white;position: relative;}div.sk-label label {font-family: monospace;font-weight: bold;background-color: white;display: inline-block;line-height: 1.2em;}div.sk-label-container {position: relative;z-index: 2;text-align: center;}div.sk-container {display: inline-block;position: relative;}</style><div class=\"sk-top-container\"><div class=\"sk-container\"><div class=\"sk-item sk-dashed-wrapped\"><div class=\"sk-label-container\"><div class=\"sk-label sk-toggleable\"><input class=\"sk-toggleable__control sk-hidden--visually\" id=\"7a70d5ca-fb66-49a1-ad06-13c476d95366\" type=\"checkbox\" ><label class=\"sk-toggleable__label\" for=\"7a70d5ca-fb66-49a1-ad06-13c476d95366\">Pipeline</label><div class=\"sk-toggleable__content\"><pre>Pipeline(steps=[('columntransformer',\n",
       "                 ColumnTransformer(transformers=[('categorical',\n",
       "                                                  Pipeline(steps=[('imputer',\n",
       "                                                                   SimpleImputer(add_indicator=True,\n",
       "                                                                                 strategy='most_frequent')),\n",
       "                                                                  ('ohe',\n",
       "                                                                   OneHotEncoder(handle_unknown='ignore'))]),\n",
       "                                                  ['SpecialDay', 'Month',\n",
       "                                                   'OperatingSystems',\n",
       "                                                   'Browser', 'Region',\n",
       "                                                   'TrafficType', 'VisitorType',\n",
       "                                                   'Weekend']),\n",
       "                                                 ('continuous',\n",
       "                                                  Pipeline(steps=[...\n",
       "                                                                   SimpleImputer(add_indicator=True,\n",
       "                                                                                 strategy='median')),\n",
       "                                                                  ('scaler',\n",
       "                                                                   StandardScaler())]),\n",
       "                                                  ['Administrative',\n",
       "                                                   'Administrative_Duration',\n",
       "                                                   'Informational',\n",
       "                                                   'Informational_Duration',\n",
       "                                                   'ProductRelated',\n",
       "                                                   'ProductRelated_Duration',\n",
       "                                                   'BounceRates', 'ExitRates',\n",
       "                                                   'PageValues'])])),\n",
       "                ('smote', SMOTE(k_neighbors=2)),\n",
       "                ('randomforestclassifier',\n",
       "                 RandomForestClassifier(max_depth=10, min_samples_leaf=5))])</pre></div></div></div><div class=\"sk-serial\"><div class=\"sk-item sk-dashed-wrapped\"><div class=\"sk-label-container\"><div class=\"sk-label sk-toggleable\"><input class=\"sk-toggleable__control sk-hidden--visually\" id=\"c1a54b37-3183-4be8-bac5-ce30bfbb404b\" type=\"checkbox\" ><label class=\"sk-toggleable__label\" for=\"c1a54b37-3183-4be8-bac5-ce30bfbb404b\">columntransformer: ColumnTransformer</label><div class=\"sk-toggleable__content\"><pre>ColumnTransformer(transformers=[('categorical',\n",
       "                                 Pipeline(steps=[('imputer',\n",
       "                                                  SimpleImputer(add_indicator=True,\n",
       "                                                                strategy='most_frequent')),\n",
       "                                                 ('ohe',\n",
       "                                                  OneHotEncoder(handle_unknown='ignore'))]),\n",
       "                                 ['SpecialDay', 'Month', 'OperatingSystems',\n",
       "                                  'Browser', 'Region', 'TrafficType',\n",
       "                                  'VisitorType', 'Weekend']),\n",
       "                                ('continuous',\n",
       "                                 Pipeline(steps=[('imputer',\n",
       "                                                  SimpleImputer(add_indicator=True,\n",
       "                                                                strategy='median')),\n",
       "                                                 ('scaler', StandardScaler())]),\n",
       "                                 ['Administrative', 'Administrative_Duration',\n",
       "                                  'Informational', 'Informational_Duration',\n",
       "                                  'ProductRelated', 'ProductRelated_Duration',\n",
       "                                  'BounceRates', 'ExitRates', 'PageValues'])])</pre></div></div></div><div class=\"sk-parallel\"><div class=\"sk-parallel-item\"><div class=\"sk-item\"><div class=\"sk-label-container\"><div class=\"sk-label sk-toggleable\"><input class=\"sk-toggleable__control sk-hidden--visually\" id=\"d417af1c-33f9-4f5e-89ed-bf69e35d2038\" type=\"checkbox\" ><label class=\"sk-toggleable__label\" for=\"d417af1c-33f9-4f5e-89ed-bf69e35d2038\">categorical</label><div class=\"sk-toggleable__content\"><pre>['SpecialDay', 'Month', 'OperatingSystems', 'Browser', 'Region', 'TrafficType', 'VisitorType', 'Weekend']</pre></div></div></div><div class=\"sk-serial\"><div class=\"sk-item\"><div class=\"sk-serial\"><div class=\"sk-item\"><div class=\"sk-estimator sk-toggleable\"><input class=\"sk-toggleable__control sk-hidden--visually\" id=\"57a91aa5-ed7b-431b-bc4d-0df1e06e25b5\" type=\"checkbox\" ><label class=\"sk-toggleable__label\" for=\"57a91aa5-ed7b-431b-bc4d-0df1e06e25b5\">SimpleImputer</label><div class=\"sk-toggleable__content\"><pre>SimpleImputer(add_indicator=True, strategy='most_frequent')</pre></div></div></div><div class=\"sk-item\"><div class=\"sk-estimator sk-toggleable\"><input class=\"sk-toggleable__control sk-hidden--visually\" id=\"f0e50723-ca21-4c44-a0ae-17ba300968b3\" type=\"checkbox\" ><label class=\"sk-toggleable__label\" for=\"f0e50723-ca21-4c44-a0ae-17ba300968b3\">OneHotEncoder</label><div class=\"sk-toggleable__content\"><pre>OneHotEncoder(handle_unknown='ignore')</pre></div></div></div></div></div></div></div></div><div class=\"sk-parallel-item\"><div class=\"sk-item\"><div class=\"sk-label-container\"><div class=\"sk-label sk-toggleable\"><input class=\"sk-toggleable__control sk-hidden--visually\" id=\"e8621c7a-1235-4a46-8ba1-5aaab646b5b2\" type=\"checkbox\" ><label class=\"sk-toggleable__label\" for=\"e8621c7a-1235-4a46-8ba1-5aaab646b5b2\">continuous</label><div class=\"sk-toggleable__content\"><pre>['Administrative', 'Administrative_Duration', 'Informational', 'Informational_Duration', 'ProductRelated', 'ProductRelated_Duration', 'BounceRates', 'ExitRates', 'PageValues']</pre></div></div></div><div class=\"sk-serial\"><div class=\"sk-item\"><div class=\"sk-serial\"><div class=\"sk-item\"><div class=\"sk-estimator sk-toggleable\"><input class=\"sk-toggleable__control sk-hidden--visually\" id=\"c28bc018-2269-4340-bd83-673e244f5f0b\" type=\"checkbox\" ><label class=\"sk-toggleable__label\" for=\"c28bc018-2269-4340-bd83-673e244f5f0b\">SimpleImputer</label><div class=\"sk-toggleable__content\"><pre>SimpleImputer(add_indicator=True, strategy='median')</pre></div></div></div><div class=\"sk-item\"><div class=\"sk-estimator sk-toggleable\"><input class=\"sk-toggleable__control sk-hidden--visually\" id=\"e222cf94-9171-4e0a-997c-65b020fb4424\" type=\"checkbox\" ><label class=\"sk-toggleable__label\" for=\"e222cf94-9171-4e0a-997c-65b020fb4424\">StandardScaler</label><div class=\"sk-toggleable__content\"><pre>StandardScaler()</pre></div></div></div></div></div></div></div></div></div></div><div class=\"sk-item\"><div class=\"sk-estimator sk-toggleable\"><input class=\"sk-toggleable__control sk-hidden--visually\" id=\"c70b02e9-d5ec-40c6-acce-0cbbe9909918\" type=\"checkbox\" ><label class=\"sk-toggleable__label\" for=\"c70b02e9-d5ec-40c6-acce-0cbbe9909918\">SMOTE</label><div class=\"sk-toggleable__content\"><pre>SMOTE(k_neighbors=2)</pre></div></div></div><div class=\"sk-item\"><div class=\"sk-estimator sk-toggleable\"><input class=\"sk-toggleable__control sk-hidden--visually\" id=\"3dcd8671-401b-4a49-9263-b158c86fbb4a\" type=\"checkbox\" ><label class=\"sk-toggleable__label\" for=\"3dcd8671-401b-4a49-9263-b158c86fbb4a\">RandomForestClassifier</label><div class=\"sk-toggleable__content\"><pre>RandomForestClassifier(max_depth=10, min_samples_leaf=5)</pre></div></div></div></div></div></div></div>"
      ],
      "text/plain": [
       "Pipeline(steps=[('columntransformer',\n",
       "                 ColumnTransformer(transformers=[('categorical',\n",
       "                                                  Pipeline(steps=[('imputer',\n",
       "                                                                   SimpleImputer(add_indicator=True,\n",
       "                                                                                 strategy='most_frequent')),\n",
       "                                                                  ('ohe',\n",
       "                                                                   OneHotEncoder(handle_unknown='ignore'))]),\n",
       "                                                  ['SpecialDay', 'Month',\n",
       "                                                   'OperatingSystems',\n",
       "                                                   'Browser', 'Region',\n",
       "                                                   'TrafficType', 'VisitorType',\n",
       "                                                   'Weekend']),\n",
       "                                                 ('continuous',\n",
       "                                                  Pipeline(steps=[...\n",
       "                                                                   SimpleImputer(add_indicator=True,\n",
       "                                                                                 strategy='median')),\n",
       "                                                                  ('scaler',\n",
       "                                                                   StandardScaler())]),\n",
       "                                                  ['Administrative',\n",
       "                                                   'Administrative_Duration',\n",
       "                                                   'Informational',\n",
       "                                                   'Informational_Duration',\n",
       "                                                   'ProductRelated',\n",
       "                                                   'ProductRelated_Duration',\n",
       "                                                   'BounceRates', 'ExitRates',\n",
       "                                                   'PageValues'])])),\n",
       "                ('smote', SMOTE(k_neighbors=2)),\n",
       "                ('randomforestclassifier',\n",
       "                 RandomForestClassifier(max_depth=10, min_samples_leaf=5))])"
      ]
     },
     "execution_count": 20,
     "metadata": {},
     "output_type": "execute_result"
    }
   ],
   "source": [
    "# Best model's pipeline\n",
    "\n",
    "best_model"
   ]
  },
  {
   "cell_type": "code",
   "execution_count": 21,
   "metadata": {},
   "outputs": [
    {
     "data": {
      "text/plain": [
       "{'smote__k_neighbors': 2,\n",
       " 'randomforestclassifier__min_samples_leaf': 5,\n",
       " 'randomforestclassifier__max_features': 'auto',\n",
       " 'randomforestclassifier__max_depth': 10}"
      ]
     },
     "execution_count": 21,
     "metadata": {},
     "output_type": "execute_result"
    }
   ],
   "source": [
    "# Best model's hyperparameters\n",
    "\n",
    "rf_rand_cv.best_params_"
   ]
  },
  {
   "cell_type": "markdown",
   "metadata": {},
   "source": [
    "## Test set feature importance"
   ]
  },
  {
   "cell_type": "code",
   "execution_count": 28,
   "metadata": {},
   "outputs": [],
   "source": [
    "# Get permutation importance of features\n",
    "\n",
    "result = permutation_importance(best_model, X_test, y_test, n_repeats=10)"
   ]
  },
  {
   "cell_type": "code",
   "execution_count": 29,
   "metadata": {},
   "outputs": [
    {
     "data": {
      "image/png": "[encoded data removed]",
      "text/plain": [
       "<Figure size 1008x504 with 1 Axes>"
      ]
     },
     "metadata": {
      "needs_background": "light"
     },
     "output_type": "display_data"
    }
   ],
   "source": [
    "# Display permutation importance\n",
    "# source: https://scikit-learn.org/stable/auto_examples/inspection/plot_permutation_importance.html#sphx-glr-auto-examples-inspection-plot-permutation-importance-py\n",
    "\n",
    "sorted_idx = result.importances_mean.argsort()\n",
    "\n",
    "fig, ax = plt.subplots(figsize=(14,7))\n",
    "ax.boxplot(result.importances[sorted_idx].T,\n",
    "           vert=False, labels=X_train.columns[sorted_idx])\n",
    "ax.set_title(\"Permutation Importances (test set)\")\n",
    "fig.tight_layout()\n",
    "plt.show()"
   ]
  },
  {
   "cell_type": "markdown",
   "metadata": {},
   "source": [
    "As we can see above, in the test set, *PageValues* is a **highly important predictor** for our trained model. Meaning that it helps the most, out of the features we have, to differentiate between revenue and not revenue for the **unseen data**. There is a dramatic decrease in importance after that.\n",
    "- **PageValues**: Represent the average value for a web page that a user visited before completing an e-commerce transaction. Which makes sense for it to be important for revenue prediction because, speaking from experience, if we are really interested in buying a product we tend to go back and forth between websites to decide on where and what to buy"
   ]
  },
  {
   "cell_type": "markdown",
   "metadata": {},
   "source": [
    "Starting from second ranked feature(*Administrative*), the decrese in the importance is gradual"
   ]
  },
  {
   "cell_type": "markdown",
   "metadata": {},
   "source": [
    "Starting from *Operating systems* variable and other less important variables are actually causing our model to perform worse **in general** for the test set, based on negative permutation importance score\n",
    "\n",
    "- Now that we tested our model on the test set and realized how features affect our model, we can decide on what features to include or not for the next updated model if we have more data. Ex. try **dropping** *ProductRelated* feature from the model..."
   ]
  },
  {
   "cell_type": "markdown",
   "metadata": {},
   "source": [
    "## Best model's test set performance on several evaluation metrics"
   ]
  },
  {
   "cell_type": "code",
   "execution_count": 24,
   "metadata": {},
   "outputs": [],
   "source": [
    "# Get predictions from the best model\n",
    "\n",
    "predictions = best_model.predict(X_test)"
   ]
  },
  {
   "cell_type": "code",
   "execution_count": 25,
   "metadata": {},
   "outputs": [],
   "source": [
    "# Define which metrics to look at\n",
    "metrics_to_test = [balanced_accuracy_score, recall_score, precision_score, f1_score]"
   ]
  },
  {
   "cell_type": "markdown",
   "metadata": {},
   "source": [
    "### Why such metrics?\n",
    "\n",
    "- For imbalanced datasets, **accuracy** score might not be the best indicator for model performance\n",
    "- Because of that reason, we check **balanced accuracy** score but that itself is not enough to look at\n",
    "- We also would like to see the **recall** and **precision** performance of our model on such imbalanced dataset\n",
    "- In addition to such metrics, we might want to look at **f1 score** to see how well our model performs when we combine precision and recall performances\n",
    "- On top of all, **confusion matrix** acts like an icing on the cake to better see the overall picture in terms of performance"
   ]
  },
  {
   "cell_type": "code",
   "execution_count": 26,
   "metadata": {},
   "outputs": [
    {
     "name": "stdout",
     "output_type": "stream",
     "text": [
      "balanced_accuracy_score is 0.842\n",
      "\n",
      "recall_score is 0.796\n",
      "\n",
      "precision_score is 0.567\n",
      "\n",
      "f1_score is 0.662\n",
      "\n"
     ]
    }
   ],
   "source": [
    "# print metric names and corresponding scores\n",
    "for metric in metrics_to_test:\n",
    "    print(f\"{metric.__name__} is {metric(y_test, predictions):.3f}\", end='\\n\\n')"
   ]
  },
  {
   "cell_type": "code",
   "execution_count": 27,
   "metadata": {},
   "outputs": [
    {
     "data": {
      "text/plain": [
       "array([[1852,  232],\n",
       "       [  78,  304]])"
      ]
     },
     "execution_count": 27,
     "metadata": {},
     "output_type": "execute_result"
    }
   ],
   "source": [
    "# Look at the confusion matrix\n",
    "\n",
    "confusion_matrix(y_test, predictions)"
   ]
  },
  {
   "cell_type": "markdown",
   "metadata": {},
   "source": [
    "## Conclusion"
   ]
  },
  {
   "cell_type": "markdown",
   "metadata": {},
   "source": [
    "- **Random Forest** algorithm performed better than Logistic Regression in terms of **predictive power**"
   ]
  },
  {
   "cell_type": "markdown",
   "metadata": {},
   "source": [
    "- Time to do hyperparameter search with cross validation for Random Forest was relatively **longer** than the Logistic Regression model"
   ]
  },
  {
   "cell_type": "markdown",
   "metadata": {},
   "source": [
    "- Based on **balanced accuracy** and **recall**, our model **performs relatively well**. Accuracy score suggests that we can correctly classify 84.2% of the user sessions if they will cause a revenue or not. We have a recall score of 79.6% in that sense"
   ]
  },
  {
   "cell_type": "markdown",
   "metadata": {},
   "source": [
    "- But if we look at our 56.7% **precision score**, we can see that our model is **over-predicting** a user causing a revenue(High false positive) and performing poorly in that sense. This might be because of our model not learning enough about the class *causing a revenue* as a result of having an **imbalanced dataset**"
   ]
  },
  {
   "cell_type": "markdown",
   "metadata": {},
   "source": [
    "- 66.2% f1 score suggests that the model performs okay if we care equally about recall and precision based on business decisions."
   ]
  },
  {
   "cell_type": "markdown",
   "metadata": {},
   "source": [
    "- **Overall**: Our model's performance depend on **what we expect** from it and the **business goals**. It doesn't perform great in every aspect, but it performs well in terms of accuracy and recall. "
   ]
  },
  {
   "cell_type": "markdown",
   "metadata": {},
   "source": [
    "## Why does this project matter?\n",
    "\n",
    "- Customers who aren’t making a purchase can be analyzed in detail and further action can be taken accordingly to increase revenue"
   ]
  },
  {
   "cell_type": "markdown",
   "metadata": {},
   "source": [
    "## Summary\n",
    "\n",
    "- 1) Select dataset and research question\n",
    "- 2) Examine data to understand features, identify missing values, and EDA to detect any anomalies in the data\n",
    "- 3) Split data before doing any imputation and modeling to prevent leaking\n",
    "- 4) Select which features are going to be in the model, and create new variables from existing ones if appropriate\n",
    "- 5) Preprocess categorical and continuos variables accordingly\n",
    "- 6) Decide on which algorithms and hyperparameters to search for and do CV search to chose the best model based on a certain metric\n",
    "- 7) Select the best model and gather insights by looking at feature importance and different evaluation metrics"
   ]
  },
  {
   "cell_type": "markdown",
   "metadata": {},
   "source": [
    "## Next Steps\n",
    "\n",
    "- Features that are found to be bad by permutation importance can be taken out from the model and retraining can be done to see if there will be an improvement\n",
    "- Collect more data about the minority class, if it makes sense in terms of cost/return\n",
    "- Different prediction algorithms can be added for better performance comparison, ex. LightGBM"
   ]
  }
 ],
 "metadata": {
  "kernelspec": {
   "display_name": "Python 3",
   "language": "python",
   "name": "python3"
  },
  "language_info": {
   "codemirror_mode": {
    "name": "ipython",
    "version": 3
   },
   "file_extension": ".py",
   "mimetype": "text/x-python",
   "name": "python",
   "nbconvert_exporter": "python",
   "pygments_lexer": "ipython3",
   "version": "3.8.3"
  }
 },
 "nbformat": 4,
 "nbformat_minor": 4
}

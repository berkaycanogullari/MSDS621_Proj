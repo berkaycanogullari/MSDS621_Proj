{
 "cells": [
  {
   "cell_type": "markdown",
   "metadata": {},
   "source": [
    "# Can online customers' intention be predicted beforehand?"
   ]
  },
  {
   "cell_type": "markdown",
   "metadata": {},
   "source": [
    "### In this project I'm going to try to predict if a customer causes revenue to the company based on the features of the dataset and compare two fundamental ML algorithms. My main focus will be to show Scikit-Learn's general functionality and prediction but not interpretability. I will explain what steps I took and why over the notebook. Let's get started!"
   ]
  },
  {
   "cell_type": "code",
   "execution_count": 2,
   "metadata": {},
   "outputs": [],
   "source": [
    "# Import necessary libraries and packages\n",
    "\n",
    "import pandas as pd\n",
    "import numpy as np\n",
    "import imblearn\n",
    "import matplotlib.pyplot as plt\n",
    "\n",
    "from imblearn.pipeline          import make_pipeline\n",
    "from imblearn.over_sampling     import SMOTE\n",
    "from sklearn.pipeline           import Pipeline\n",
    "from sklearn.model_selection    import train_test_split, RandomizedSearchCV\n",
    "from sklearn.linear_model       import LogisticRegression\n",
    "from sklearn.ensemble           import RandomForestClassifier \n",
    "from sklearn.impute             import SimpleImputer\n",
    "from sklearn.preprocessing      import StandardScaler, OneHotEncoder\n",
    "from sklearn.metrics            import balanced_accuracy_score, roc_auc_score, f1_score, precision_score, recall_score, confusion_matrix\n",
    "from sklearn.compose            import ColumnTransformer\n",
    "from sklearn.inspection         import permutation_importance\n",
    "from sklearn                    import set_config\n",
    "set_config(display='diagram')"
   ]
  },
  {
   "cell_type": "markdown",
   "metadata": {},
   "source": [
    "# DATASET"
   ]
  },
  {
   "cell_type": "code",
   "execution_count": 3,
   "metadata": {},
   "outputs": [],
   "source": [
    "# Read in the data\n",
    "\n",
    "data = pd.read_csv('online_shoppers_intention.csv')"
   ]
  },
  {
   "cell_type": "code",
   "execution_count": 4,
   "metadata": {},
   "outputs": [
    {
     "data": {
      "text/html": [
       "<div>\n",
       "<style scoped>\n",
       "    .dataframe tbody tr th:only-of-type {\n",
       "        vertical-align: middle;\n",
       "    }\n",
       "\n",
       "    .dataframe tbody tr th {\n",
       "        vertical-align: top;\n",
       "    }\n",
       "\n",
       "    .dataframe thead th {\n",
       "        text-align: right;\n",
       "    }\n",
       "</style>\n",
       "<table border=\"1\" class=\"dataframe\">\n",
       "  <thead>\n",
       "    <tr style=\"text-align: right;\">\n",
       "      <th></th>\n",
       "      <th>Administrative</th>\n",
       "      <th>Administrative_Duration</th>\n",
       "      <th>Informational</th>\n",
       "      <th>Informational_Duration</th>\n",
       "      <th>ProductRelated</th>\n",
       "      <th>ProductRelated_Duration</th>\n",
       "      <th>BounceRates</th>\n",
       "      <th>ExitRates</th>\n",
       "      <th>PageValues</th>\n",
       "      <th>SpecialDay</th>\n",
       "      <th>Month</th>\n",
       "      <th>OperatingSystems</th>\n",
       "      <th>Browser</th>\n",
       "      <th>Region</th>\n",
       "      <th>TrafficType</th>\n",
       "      <th>VisitorType</th>\n",
       "      <th>Weekend</th>\n",
       "      <th>Revenue</th>\n",
       "    </tr>\n",
       "  </thead>\n",
       "  <tbody>\n",
       "    <tr>\n",
       "      <th>0</th>\n",
       "      <td>0</td>\n",
       "      <td>0.0</td>\n",
       "      <td>0</td>\n",
       "      <td>0.0</td>\n",
       "      <td>1</td>\n",
       "      <td>0.000000</td>\n",
       "      <td>0.20</td>\n",
       "      <td>0.20</td>\n",
       "      <td>0.0</td>\n",
       "      <td>0.0</td>\n",
       "      <td>Feb</td>\n",
       "      <td>1</td>\n",
       "      <td>1</td>\n",
       "      <td>1</td>\n",
       "      <td>1</td>\n",
       "      <td>Returning_Visitor</td>\n",
       "      <td>False</td>\n",
       "      <td>False</td>\n",
       "    </tr>\n",
       "    <tr>\n",
       "      <th>1</th>\n",
       "      <td>0</td>\n",
       "      <td>0.0</td>\n",
       "      <td>0</td>\n",
       "      <td>0.0</td>\n",
       "      <td>2</td>\n",
       "      <td>64.000000</td>\n",
       "      <td>0.00</td>\n",
       "      <td>0.10</td>\n",
       "      <td>0.0</td>\n",
       "      <td>0.0</td>\n",
       "      <td>Feb</td>\n",
       "      <td>2</td>\n",
       "      <td>2</td>\n",
       "      <td>1</td>\n",
       "      <td>2</td>\n",
       "      <td>Returning_Visitor</td>\n",
       "      <td>False</td>\n",
       "      <td>False</td>\n",
       "    </tr>\n",
       "    <tr>\n",
       "      <th>2</th>\n",
       "      <td>0</td>\n",
       "      <td>0.0</td>\n",
       "      <td>0</td>\n",
       "      <td>0.0</td>\n",
       "      <td>1</td>\n",
       "      <td>0.000000</td>\n",
       "      <td>0.20</td>\n",
       "      <td>0.20</td>\n",
       "      <td>0.0</td>\n",
       "      <td>0.0</td>\n",
       "      <td>Feb</td>\n",
       "      <td>4</td>\n",
       "      <td>1</td>\n",
       "      <td>9</td>\n",
       "      <td>3</td>\n",
       "      <td>Returning_Visitor</td>\n",
       "      <td>False</td>\n",
       "      <td>False</td>\n",
       "    </tr>\n",
       "    <tr>\n",
       "      <th>3</th>\n",
       "      <td>0</td>\n",
       "      <td>0.0</td>\n",
       "      <td>0</td>\n",
       "      <td>0.0</td>\n",
       "      <td>2</td>\n",
       "      <td>2.666667</td>\n",
       "      <td>0.05</td>\n",
       "      <td>0.14</td>\n",
       "      <td>0.0</td>\n",
       "      <td>0.0</td>\n",
       "      <td>Feb</td>\n",
       "      <td>3</td>\n",
       "      <td>2</td>\n",
       "      <td>2</td>\n",
       "      <td>4</td>\n",
       "      <td>Returning_Visitor</td>\n",
       "      <td>False</td>\n",
       "      <td>False</td>\n",
       "    </tr>\n",
       "    <tr>\n",
       "      <th>4</th>\n",
       "      <td>0</td>\n",
       "      <td>0.0</td>\n",
       "      <td>0</td>\n",
       "      <td>0.0</td>\n",
       "      <td>10</td>\n",
       "      <td>627.500000</td>\n",
       "      <td>0.02</td>\n",
       "      <td>0.05</td>\n",
       "      <td>0.0</td>\n",
       "      <td>0.0</td>\n",
       "      <td>Feb</td>\n",
       "      <td>3</td>\n",
       "      <td>3</td>\n",
       "      <td>1</td>\n",
       "      <td>4</td>\n",
       "      <td>Returning_Visitor</td>\n",
       "      <td>True</td>\n",
       "      <td>False</td>\n",
       "    </tr>\n",
       "  </tbody>\n",
       "</table>\n",
       "</div>"
      ],
      "text/plain": [
       "   Administrative  Administrative_Duration  Informational  \\\n",
       "0               0                      0.0              0   \n",
       "1               0                      0.0              0   \n",
       "2               0                      0.0              0   \n",
       "3               0                      0.0              0   \n",
       "4               0                      0.0              0   \n",
       "\n",
       "   Informational_Duration  ProductRelated  ProductRelated_Duration  \\\n",
       "0                     0.0               1                 0.000000   \n",
       "1                     0.0               2                64.000000   \n",
       "2                     0.0               1                 0.000000   \n",
       "3                     0.0               2                 2.666667   \n",
       "4                     0.0              10               627.500000   \n",
       "\n",
       "   BounceRates  ExitRates  PageValues  SpecialDay Month  OperatingSystems  \\\n",
       "0         0.20       0.20         0.0         0.0   Feb                 1   \n",
       "1         0.00       0.10         0.0         0.0   Feb                 2   \n",
       "2         0.20       0.20         0.0         0.0   Feb                 4   \n",
       "3         0.05       0.14         0.0         0.0   Feb                 3   \n",
       "4         0.02       0.05         0.0         0.0   Feb                 3   \n",
       "\n",
       "   Browser  Region  TrafficType        VisitorType  Weekend  Revenue  \n",
       "0        1       1            1  Returning_Visitor    False    False  \n",
       "1        2       1            2  Returning_Visitor    False    False  \n",
       "2        1       9            3  Returning_Visitor    False    False  \n",
       "3        2       2            4  Returning_Visitor    False    False  \n",
       "4        3       1            4  Returning_Visitor     True    False  "
      ]
     },
     "execution_count": 4,
     "metadata": {},
     "output_type": "execute_result"
    }
   ],
   "source": [
    "data.head()"
   ]
  },
  {
   "cell_type": "markdown",
   "metadata": {},
   "source": [
    "## Data information"
   ]
  },
  {
   "cell_type": "code",
   "execution_count": 5,
   "metadata": {},
   "outputs": [
    {
     "data": {
      "text/plain": [
       "(12330, 18)"
      ]
     },
     "execution_count": 5,
     "metadata": {},
     "output_type": "execute_result"
    }
   ],
   "source": [
    "# Size\n",
    "\n",
    "data.shape"
   ]
  },
  {
   "cell_type": "markdown",
   "metadata": {},
   "source": [
    "- There are no missing(np.nan) values in any of the columns based on pandas inspection\n",
    "- Further inspection is done on a seperate notebook to see if missing values encoded differently than np.nan\n",
    "- After doing EDA, I still have the same conclusion. **There aren't any missing values**"
   ]
  },
  {
   "cell_type": "markdown",
   "metadata": {},
   "source": [
    "## Check target balance"
   ]
  },
  {
   "cell_type": "code",
   "execution_count": 7,
   "metadata": {},
   "outputs": [
    {
     "data": {
      "text/plain": [
       "(1908, 10422)"
      ]
     },
     "execution_count": 7,
     "metadata": {},
     "output_type": "execute_result"
    }
   ],
   "source": [
    "revenue_positive = data.Revenue.sum() # Total class 1\n",
    "revenue_negative = (~data.Revenue.values).sum() # Total class 0\n",
    "\n",
    "revenue_positive, revenue_negative"
   ]
  },
  {
   "cell_type": "markdown",
   "metadata": {},
   "source": [
    "- Target is **imbalanced** and needed to be treated accordingly\n",
    "- Approximately 16% of the data is *class 1*, rest is *class 0*"
   ]
  },
  {
   "cell_type": "markdown",
   "metadata": {},
   "source": [
    "## Train/Test split"
   ]
  },
  {
   "cell_type": "code",
   "execution_count": 8,
   "metadata": {},
   "outputs": [],
   "source": [
    "# Define features and label\n",
    "\n",
    "X, y = data.drop('Revenue', axis=1), data.Revenue\n",
    "y = y.values.ravel() # numpy trick to be able to split to train/test"
   ]
  },
  {
   "cell_type": "markdown",
   "metadata": {},
   "source": [
    "- Use **stratified splitting** based on target since the dataset is imbalanced\n",
    "- Important to do **before** applying any transformations"
   ]
  },
  {
   "cell_type": "code",
   "execution_count": 9,
   "metadata": {},
   "outputs": [],
   "source": [
    "X_train, X_test, y_train, y_test = train_test_split(X, y, stratify=y, test_size=0.1) # 0.9/0.1 stratified splitting"
   ]
  },
  {
   "cell_type": "markdown",
   "metadata": {},
   "source": [
    " "
   ]
  },
  {
   "cell_type": "markdown",
   "metadata": {},
   "source": [
    " "
   ]
  },
  {
   "cell_type": "markdown",
   "metadata": {},
   "source": [
    " "
   ]
  },
  {
   "cell_type": "markdown",
   "metadata": {},
   "source": [
    " "
   ]
  },
  {
   "cell_type": "markdown",
   "metadata": {},
   "source": [
    "# Preprocessing and Feature Engineering"
   ]
  },
  {
   "cell_type": "code",
   "execution_count": 10,
   "metadata": {},
   "outputs": [],
   "source": [
    "# Define categorical and continuous features to preprocess accordingly\n",
    "\n",
    "cat_cols = ['SpecialDay', 'Month', 'OperatingSystems', 'Browser',\n",
    "            'Region', 'TrafficType', 'VisitorType', 'Weekend']\n",
    "\n",
    "con_cols = ['Administrative', 'Administrative_Duration', 'Informational',\n",
    "            'Informational_Duration', 'ProductRelated', 'ProductRelated_Duration',\n",
    "            'BounceRates', 'ExitRates', 'PageValues']"
   ]
  },
  {
   "cell_type": "markdown",
   "metadata": {},
   "source": [
    "## Categorical Variables"
   ]
  },
  {
   "cell_type": "markdown",
   "metadata": {},
   "source": [
    "Even though there aren't any missing values at the moment, it doesn't mean we aren't going to have missing values in the future. Hence, the need for imputer.\n",
    "\n",
    "- **Imputation**: *Most frequent imputation* for simplicity and fast modeling. Other options *kNNimputer*, *IterativeImputer*, *Learned Complex Model*...\n",
    "- **Encoding**: *One Hot Encode* as there isn't high cardinality. Okay if not done or *Ordinal Encoding* for tree based algorithms but *OHE* has to be done for linear models."
   ]
  },
  {
   "cell_type": "code",
   "execution_count": 11,
   "metadata": {},
   "outputs": [],
   "source": [
    "# Pipeline for categorical variables\n",
    "\n",
    "cat_pipe = Pipeline([('imputer', SimpleImputer(missing_values=np.nan, strategy='most_frequent', add_indicator=True)), # Median Impute\n",
    "                     ('ohe', OneHotEncoder(handle_unknown='ignore'))]) # One Hot Encode"
   ]
  },
  {
   "cell_type": "markdown",
   "metadata": {},
   "source": [
    "## Continuous Variables"
   ]
  },
  {
   "cell_type": "markdown",
   "metadata": {},
   "source": [
    "Imputer is needed for same reasoning as categorical variables\n",
    "\n",
    "- **Imputation**: *Median imputation* for simplicity and fast modeling. Same options exist as categorical.\n",
    "- **Encoding**: *Variance scaling* as it makes modeling faster. Okay if not done for tree based models but improves linear models because of faster gradient descent."
   ]
  },
  {
   "cell_type": "code",
   "execution_count": 12,
   "metadata": {},
   "outputs": [],
   "source": [
    "# Pipeline for continuous variables\n",
    "\n",
    "con_pipe = Pipeline([('imputer', SimpleImputer(missing_values=np.nan, strategy='median', add_indicator=True)), # Mean Impute\n",
    "                     ('scaler', StandardScaler())]) # Variance scale"
   ]
  },
  {
   "cell_type": "markdown",
   "metadata": {},
   "source": [
    "## Column transformer to put everything together"
   ]
  },
  {
   "cell_type": "code",
   "execution_count": 13,
   "metadata": {},
   "outputs": [],
   "source": [
    "preprocessing = ColumnTransformer([('categorical', cat_pipe, cat_cols), # Preprocess categorical variables\n",
    "                                   ('continuous', con_pipe, con_cols)]) # Preprocess continuous variables"
   ]
  },
  {
   "cell_type": "code",
   "execution_count": 14,
   "metadata": {},
   "outputs": [
    {
     "data": {
      "text/html": [
       "<style>div.sk-top-container {color: black;background-color: white;}div.sk-toggleable {background-color: white;}label.sk-toggleable__label {cursor: pointer;display: block;width: 100%;margin-bottom: 0;padding: 0.2em 0.3em;box-sizing: border-box;text-align: center;}div.sk-toggleable__content {max-height: 0;max-width: 0;overflow: hidden;text-align: left;background-color: #f0f8ff;}div.sk-toggleable__content pre {margin: 0.2em;color: black;border-radius: 0.25em;background-color: #f0f8ff;}input.sk-toggleable__control:checked~div.sk-toggleable__content {max-height: 200px;max-width: 100%;overflow: auto;}div.sk-estimator input.sk-toggleable__control:checked~label.sk-toggleable__label {background-color: #d4ebff;}div.sk-label input.sk-toggleable__control:checked~label.sk-toggleable__label {background-color: #d4ebff;}input.sk-hidden--visually {border: 0;clip: rect(1px 1px 1px 1px);clip: rect(1px, 1px, 1px, 1px);height: 1px;margin: -1px;overflow: hidden;padding: 0;position: absolute;width: 1px;}div.sk-estimator {font-family: monospace;background-color: #f0f8ff;margin: 0.25em 0.25em;border: 1px dotted black;border-radius: 0.25em;box-sizing: border-box;}div.sk-estimator:hover {background-color: #d4ebff;}div.sk-parallel-item::after {content: \"\";width: 100%;border-bottom: 1px solid gray;flex-grow: 1;}div.sk-label:hover label.sk-toggleable__label {background-color: #d4ebff;}div.sk-serial::before {content: \"\";position: absolute;border-left: 1px solid gray;box-sizing: border-box;top: 2em;bottom: 0;left: 50%;}div.sk-serial {display: flex;flex-direction: column;align-items: center;background-color: white;}div.sk-item {z-index: 1;}div.sk-parallel {display: flex;align-items: stretch;justify-content: center;background-color: white;}div.sk-parallel-item {display: flex;flex-direction: column;position: relative;background-color: white;}div.sk-parallel-item:first-child::after {align-self: flex-end;width: 50%;}div.sk-parallel-item:last-child::after {align-self: flex-start;width: 50%;}div.sk-parallel-item:only-child::after {width: 0;}div.sk-dashed-wrapped {border: 1px dashed gray;margin: 0.2em;box-sizing: border-box;padding-bottom: 0.1em;background-color: white;position: relative;}div.sk-label label {font-family: monospace;font-weight: bold;background-color: white;display: inline-block;line-height: 1.2em;}div.sk-label-container {position: relative;z-index: 2;text-align: center;}div.sk-container {display: inline-block;position: relative;}</style><div class=\"sk-top-container\"><div class=\"sk-container\"><div class=\"sk-item sk-dashed-wrapped\"><div class=\"sk-label-container\"><div class=\"sk-label sk-toggleable\"><input class=\"sk-toggleable__control sk-hidden--visually\" id=\"69f3fa6d-c879-4274-ba8e-7a0d52d44378\" type=\"checkbox\" ><label class=\"sk-toggleable__label\" for=\"69f3fa6d-c879-4274-ba8e-7a0d52d44378\">ColumnTransformer</label><div class=\"sk-toggleable__content\"><pre>ColumnTransformer(transformers=[('categorical',\n",
       "                                 Pipeline(steps=[('imputer',\n",
       "                                                  SimpleImputer(add_indicator=True,\n",
       "                                                                strategy='most_frequent')),\n",
       "                                                 ('ohe',\n",
       "                                                  OneHotEncoder(handle_unknown='ignore'))]),\n",
       "                                 ['SpecialDay', 'Month', 'OperatingSystems',\n",
       "                                  'Browser', 'Region', 'TrafficType',\n",
       "                                  'VisitorType', 'Weekend']),\n",
       "                                ('continuous',\n",
       "                                 Pipeline(steps=[('imputer',\n",
       "                                                  SimpleImputer(add_indicator=True,\n",
       "                                                                strategy='median')),\n",
       "                                                 ('scaler', StandardScaler())]),\n",
       "                                 ['Administrative', 'Administrative_Duration',\n",
       "                                  'Informational', 'Informational_Duration',\n",
       "                                  'ProductRelated', 'ProductRelated_Duration',\n",
       "                                  'BounceRates', 'ExitRates', 'PageValues'])])</pre></div></div></div><div class=\"sk-parallel\"><div class=\"sk-parallel-item\"><div class=\"sk-item\"><div class=\"sk-label-container\"><div class=\"sk-label sk-toggleable\"><input class=\"sk-toggleable__control sk-hidden--visually\" id=\"be6e638b-2591-4acc-9cf1-a6d702c290be\" type=\"checkbox\" ><label class=\"sk-toggleable__label\" for=\"be6e638b-2591-4acc-9cf1-a6d702c290be\">categorical</label><div class=\"sk-toggleable__content\"><pre>['SpecialDay', 'Month', 'OperatingSystems', 'Browser', 'Region', 'TrafficType', 'VisitorType', 'Weekend']</pre></div></div></div><div class=\"sk-serial\"><div class=\"sk-item\"><div class=\"sk-serial\"><div class=\"sk-item\"><div class=\"sk-estimator sk-toggleable\"><input class=\"sk-toggleable__control sk-hidden--visually\" id=\"74f4ff07-530f-47d6-a0db-a628d08f9775\" type=\"checkbox\" ><label class=\"sk-toggleable__label\" for=\"74f4ff07-530f-47d6-a0db-a628d08f9775\">SimpleImputer</label><div class=\"sk-toggleable__content\"><pre>SimpleImputer(add_indicator=True, strategy='most_frequent')</pre></div></div></div><div class=\"sk-item\"><div class=\"sk-estimator sk-toggleable\"><input class=\"sk-toggleable__control sk-hidden--visually\" id=\"d7d9a772-fae2-4724-ba73-27ad238b0f92\" type=\"checkbox\" ><label class=\"sk-toggleable__label\" for=\"d7d9a772-fae2-4724-ba73-27ad238b0f92\">OneHotEncoder</label><div class=\"sk-toggleable__content\"><pre>OneHotEncoder(handle_unknown='ignore')</pre></div></div></div></div></div></div></div></div><div class=\"sk-parallel-item\"><div class=\"sk-item\"><div class=\"sk-label-container\"><div class=\"sk-label sk-toggleable\"><input class=\"sk-toggleable__control sk-hidden--visually\" id=\"ac3cc739-5033-47dd-bc93-e73f6f3e2430\" type=\"checkbox\" ><label class=\"sk-toggleable__label\" for=\"ac3cc739-5033-47dd-bc93-e73f6f3e2430\">continuous</label><div class=\"sk-toggleable__content\"><pre>['Administrative', 'Administrative_Duration', 'Informational', 'Informational_Duration', 'ProductRelated', 'ProductRelated_Duration', 'BounceRates', 'ExitRates', 'PageValues']</pre></div></div></div><div class=\"sk-serial\"><div class=\"sk-item\"><div class=\"sk-serial\"><div class=\"sk-item\"><div class=\"sk-estimator sk-toggleable\"><input class=\"sk-toggleable__control sk-hidden--visually\" id=\"a6d45a38-dae7-4a1a-9bc7-70ccc21e0091\" type=\"checkbox\" ><label class=\"sk-toggleable__label\" for=\"a6d45a38-dae7-4a1a-9bc7-70ccc21e0091\">SimpleImputer</label><div class=\"sk-toggleable__content\"><pre>SimpleImputer(add_indicator=True, strategy='median')</pre></div></div></div><div class=\"sk-item\"><div class=\"sk-estimator sk-toggleable\"><input class=\"sk-toggleable__control sk-hidden--visually\" id=\"e8d05a1d-2ce5-4a48-bbab-a861f91a5479\" type=\"checkbox\" ><label class=\"sk-toggleable__label\" for=\"e8d05a1d-2ce5-4a48-bbab-a861f91a5479\">StandardScaler</label><div class=\"sk-toggleable__content\"><pre>StandardScaler()</pre></div></div></div></div></div></div></div></div></div></div></div></div>"
      ],
      "text/plain": [
       "ColumnTransformer(transformers=[('categorical',\n",
       "                                 Pipeline(steps=[('imputer',\n",
       "                                                  SimpleImputer(add_indicator=True,\n",
       "                                                                strategy='most_frequent')),\n",
       "                                                 ('ohe',\n",
       "                                                  OneHotEncoder(handle_unknown='ignore'))]),\n",
       "                                 ['SpecialDay', 'Month', 'OperatingSystems',\n",
       "                                  'Browser', 'Region', 'TrafficType',\n",
       "                                  'VisitorType', 'Weekend']),\n",
       "                                ('continuous',\n",
       "                                 Pipeline(steps=[('imputer',\n",
       "                                                  SimpleImputer(add_indicator=True,\n",
       "                                                                strategy='median')),\n",
       "                                                 ('scaler', StandardScaler())]),\n",
       "                                 ['Administrative', 'Administrative_Duration',\n",
       "                                  'Informational', 'Informational_Duration',\n",
       "                                  'ProductRelated', 'ProductRelated_Duration',\n",
       "                                  'BounceRates', 'ExitRates', 'PageValues'])])"
      ]
     },
     "execution_count": 14,
     "metadata": {},
     "output_type": "execute_result"
    }
   ],
   "source": [
    "preprocessing # Show the steps for preprocessing"
   ]
  },
  {
   "cell_type": "markdown",
   "metadata": {},
   "source": [
    " "
   ]
  },
  {
   "cell_type": "markdown",
   "metadata": {},
   "source": [
    " "
   ]
  },
  {
   "cell_type": "markdown",
   "metadata": {},
   "source": [
    " "
   ]
  },
  {
   "cell_type": "markdown",
   "metadata": {},
   "source": [
    " "
   ]
  },
  {
   "cell_type": "markdown",
   "metadata": {},
   "source": [
    " "
   ]
  },
  {
   "cell_type": "markdown",
   "metadata": {},
   "source": [
    "# Algorithms & Search "
   ]
  },
  {
   "cell_type": "markdown",
   "metadata": {},
   "source": [
    "We want to use *imblearn pipeline* for hyperparameter search with cross validation as we have an imbalanced dataset and *sklearn pipeline* doesn't play well with over sampling methods"
   ]
  },
  {
   "cell_type": "markdown",
   "metadata": {},
   "source": [
    "- **Hyperparameter Search**: *RandomizedSearchCV* for faster search compared to grid search and it's still as accurate\n",
    "- **Fold Count**: *10 fold* as we have big enough data to be able to do so and it would give a better idea about model's overall performance\n",
    "- **Over Sampling**: *SMOTE* technique will be used for over sampling as it creates synthetic (not duplicate) samples of the minority class for model to notice\n",
    "- **CV Scoring Metric**: *balanced accuracy* to chose the best model from the *RandomizedSearchCV* as we have an imbalanced dataset and it's a suitable metric for the business case. Other metrics will be evaluated for the Test set *f1 score*, *ROC*..."
   ]
  },
  {
   "cell_type": "markdown",
   "metadata": {},
   "source": [
    "## Logistic Regression"
   ]
  },
  {
   "cell_type": "code",
   "execution_count": 15,
   "metadata": {},
   "outputs": [],
   "source": [
    "# create a pipeline for linear regression\n",
    "\n",
    "lr_pipe = make_pipeline(                                    \n",
    "                        preprocessing,                      # preprocessing pipeline we created before\n",
    "                        imblearn.over_sampling.SMOTE(),     # upsample using SMOTE\n",
    "                        LogisticRegression()                # algorithm to use\n",
    "                       )\n",
    "\n",
    "# hyperparameter search space\n",
    "\n",
    "hyperparameters = dict(smote__k_neighbors = [5, 10, 15],                           # k-neighbors to look for in SMOTE\n",
    "                       logisticregression__penalty = ['l1', 'l2'],                 # penalty term\n",
    "                       logisticregression__class_weight=['balanced', None],        # class weights\n",
    "                       logisticregression__solver=['lbfgs', 'liblinear', 'saga'],  # solver types for logistic regression\n",
    "                       logisticregression__C=np.logspace(0, 4, 10),                # Inverse regularization strength\n",
    "                       logisticregression__max_iter=np.linspace(50, 250, 5))     # Maximum number of iterations taken for the solvers to converge\n",
    "\n",
    "# Randomized Search Cross Validation\n",
    "\n",
    "lr_rand_cv = RandomizedSearchCV(estimator = lr_pipe,                  # use the pipe as an estimator\n",
    "                                param_distributions=hyperparameters,  # hyperparameters to search\n",
    "                                scoring='balanced_accuracy',          # chose best model based on this metric\n",
    "                                n_iter = 100,                         # do CV for 100 different models with different combination of hyperparameters\n",
    "                                cv = 10,                              # 10 fold CV\n",
    "                                n_jobs=-1,                            # use all cores\n",
    "                                verbose=True)"
   ]
  },
  {
   "cell_type": "code",
   "execution_count": 16,
   "metadata": {},
   "outputs": [
    {
     "name": "stdout",
     "output_type": "stream",
     "text": [
      "Fitting 10 folds for each of 100 candidates, totalling 1000 fits\n"
     ]
    },
    {
     "name": "stderr",
     "output_type": "stream",
     "text": [
      "/Users/bcanogullari/opt/anaconda3/lib/python3.8/site-packages/sklearn/model_selection/_search.py:918: UserWarning: One or more of the test scores are non-finite: [       nan 0.81422518 0.81295904 0.81070413 0.81124568 0.81039592\n",
      " 0.81251678 0.81229846 0.81253586 0.81324478 0.81002944 0.81303807\n",
      " 0.81036509 0.81007269 0.81332721 0.81049587 0.81434496 0.8106818\n",
      "        nan 0.81378944 0.81107911 0.81172188 0.81108747 0.81299483\n",
      " 0.81112901 0.81278317 0.81094833 0.81030187 0.8117995  0.8105284\n",
      " 0.81020022 0.81283321 0.81418675 0.81011948 0.80946556 0.81073341\n",
      " 0.81093407        nan 0.81186876 0.80999705 0.8111081  0.81256343\n",
      "        nan 0.81275233 0.80922477 0.81246334 0.81145224        nan\n",
      " 0.80814286        nan        nan 0.812386   0.81166036 0.81317736\n",
      " 0.81248921 0.8135987  0.8136503  0.8098514  0.81023431 0.81099667\n",
      " 0.80943813 0.81267996 0.81327872        nan 0.81010536 0.80986443\n",
      " 0.81014861 0.81118558 0.81246164 0.8142334  0.81278657        nan\n",
      " 0.81190781 0.81264247 0.81288992        nan 0.81200281 0.809409\n",
      "        nan 0.81325299        nan 0.81094833 0.81175366 0.81195446\n",
      " 0.81437594 0.81033936 0.81056853 0.81452593 0.8125343  0.81333203\n",
      " 0.81148463        nan 0.81295068 0.8123792  0.81150385 0.8112564\n",
      "        nan 0.81322556 0.81351952 0.81112901]\n",
      "  warnings.warn(\n",
      "/Users/bcanogullari/opt/anaconda3/lib/python3.8/site-packages/sklearn/linear_model/_sag.py:328: ConvergenceWarning: The max_iter was reached which means the coef_ did not converge\n",
      "  warnings.warn(\"The max_iter was reached which means \"\n"
     ]
    },
    {
     "data": {
      "text/html": [
       "<style>div.sk-top-container {color: black;background-color: white;}div.sk-toggleable {background-color: white;}label.sk-toggleable__label {cursor: pointer;display: block;width: 100%;margin-bottom: 0;padding: 0.2em 0.3em;box-sizing: border-box;text-align: center;}div.sk-toggleable__content {max-height: 0;max-width: 0;overflow: hidden;text-align: left;background-color: #f0f8ff;}div.sk-toggleable__content pre {margin: 0.2em;color: black;border-radius: 0.25em;background-color: #f0f8ff;}input.sk-toggleable__control:checked~div.sk-toggleable__content {max-height: 200px;max-width: 100%;overflow: auto;}div.sk-estimator input.sk-toggleable__control:checked~label.sk-toggleable__label {background-color: #d4ebff;}div.sk-label input.sk-toggleable__control:checked~label.sk-toggleable__label {background-color: #d4ebff;}input.sk-hidden--visually {border: 0;clip: rect(1px 1px 1px 1px);clip: rect(1px, 1px, 1px, 1px);height: 1px;margin: -1px;overflow: hidden;padding: 0;position: absolute;width: 1px;}div.sk-estimator {font-family: monospace;background-color: #f0f8ff;margin: 0.25em 0.25em;border: 1px dotted black;border-radius: 0.25em;box-sizing: border-box;}div.sk-estimator:hover {background-color: #d4ebff;}div.sk-parallel-item::after {content: \"\";width: 100%;border-bottom: 1px solid gray;flex-grow: 1;}div.sk-label:hover label.sk-toggleable__label {background-color: #d4ebff;}div.sk-serial::before {content: \"\";position: absolute;border-left: 1px solid gray;box-sizing: border-box;top: 2em;bottom: 0;left: 50%;}div.sk-serial {display: flex;flex-direction: column;align-items: center;background-color: white;}div.sk-item {z-index: 1;}div.sk-parallel {display: flex;align-items: stretch;justify-content: center;background-color: white;}div.sk-parallel-item {display: flex;flex-direction: column;position: relative;background-color: white;}div.sk-parallel-item:first-child::after {align-self: flex-end;width: 50%;}div.sk-parallel-item:last-child::after {align-self: flex-start;width: 50%;}div.sk-parallel-item:only-child::after {width: 0;}div.sk-dashed-wrapped {border: 1px dashed gray;margin: 0.2em;box-sizing: border-box;padding-bottom: 0.1em;background-color: white;position: relative;}div.sk-label label {font-family: monospace;font-weight: bold;background-color: white;display: inline-block;line-height: 1.2em;}div.sk-label-container {position: relative;z-index: 2;text-align: center;}div.sk-container {display: inline-block;position: relative;}</style><div class=\"sk-top-container\"><div class=\"sk-container\"><div class=\"sk-item sk-dashed-wrapped\"><div class=\"sk-label-container\"><div class=\"sk-label sk-toggleable\"><input class=\"sk-toggleable__control sk-hidden--visually\" id=\"6fa90393-35ef-4942-a3ec-e103775399df\" type=\"checkbox\" ><label class=\"sk-toggleable__label\" for=\"6fa90393-35ef-4942-a3ec-e103775399df\">RandomizedSearchCV</label><div class=\"sk-toggleable__content\"><pre>RandomizedSearchCV(cv=10,\n",
       "                   estimator=Pipeline(steps=[('columntransformer',\n",
       "                                              ColumnTransformer(transformers=[('categorical',\n",
       "                                                                               Pipeline(steps=[('imputer',\n",
       "                                                                                                SimpleImputer(add_indicator=True,\n",
       "                                                                                                              strategy='most_frequent')),\n",
       "                                                                                               ('ohe',\n",
       "                                                                                                OneHotEncoder(handle_unknown='ignore'))]),\n",
       "                                                                               ['SpecialDay',\n",
       "                                                                                'Month',\n",
       "                                                                                'OperatingSystems',\n",
       "                                                                                'Browser',\n",
       "                                                                                'Region',\n",
       "                                                                                'TrafficType',\n",
       "                                                                                'VisitorType',\n",
       "                                                                                'Weeken...\n",
       "       5.99484250e+01, 1.66810054e+02, 4.64158883e+02, 1.29154967e+03,\n",
       "       3.59381366e+03, 1.00000000e+04]),\n",
       "                                        'logisticregression__class_weight': ['balanced',\n",
       "                                                                             None],\n",
       "                                        'logisticregression__max_iter': array([ 50., 100., 150., 200., 250.]),\n",
       "                                        'logisticregression__penalty': ['l1',\n",
       "                                                                        'l2'],\n",
       "                                        'logisticregression__solver': ['lbfgs',\n",
       "                                                                       'liblinear',\n",
       "                                                                       'saga'],\n",
       "                                        'smote__k_neighbors': [5, 10, 15]},\n",
       "                   scoring='balanced_accuracy', verbose=True)</pre></div></div></div><div class=\"sk-parallel\"><div class=\"sk-parallel-item\"><div class=\"sk-item\"><div class=\"sk-serial\"><div class=\"sk-item\"><div class=\"sk-serial\"><div class=\"sk-item sk-dashed-wrapped\"><div class=\"sk-label-container\"><div class=\"sk-label sk-toggleable\"><input class=\"sk-toggleable__control sk-hidden--visually\" id=\"ada92935-f837-4a2c-a3e9-3436b511f09e\" type=\"checkbox\" ><label class=\"sk-toggleable__label\" for=\"ada92935-f837-4a2c-a3e9-3436b511f09e\">columntransformer: ColumnTransformer</label><div class=\"sk-toggleable__content\"><pre>ColumnTransformer(transformers=[('categorical',\n",
       "                                 Pipeline(steps=[('imputer',\n",
       "                                                  SimpleImputer(add_indicator=True,\n",
       "                                                                strategy='most_frequent')),\n",
       "                                                 ('ohe',\n",
       "                                                  OneHotEncoder(handle_unknown='ignore'))]),\n",
       "                                 ['SpecialDay', 'Month', 'OperatingSystems',\n",
       "                                  'Browser', 'Region', 'TrafficType',\n",
       "                                  'VisitorType', 'Weekend']),\n",
       "                                ('continuous',\n",
       "                                 Pipeline(steps=[('imputer',\n",
       "                                                  SimpleImputer(add_indicator=True,\n",
       "                                                                strategy='median')),\n",
       "                                                 ('scaler', StandardScaler())]),\n",
       "                                 ['Administrative', 'Administrative_Duration',\n",
       "                                  'Informational', 'Informational_Duration',\n",
       "                                  'ProductRelated', 'ProductRelated_Duration',\n",
       "                                  'BounceRates', 'ExitRates', 'PageValues'])])</pre></div></div></div><div class=\"sk-parallel\"><div class=\"sk-parallel-item\"><div class=\"sk-item\"><div class=\"sk-label-container\"><div class=\"sk-label sk-toggleable\"><input class=\"sk-toggleable__control sk-hidden--visually\" id=\"2d96fb7f-1e7a-4586-9799-61ef2fbf7d2b\" type=\"checkbox\" ><label class=\"sk-toggleable__label\" for=\"2d96fb7f-1e7a-4586-9799-61ef2fbf7d2b\">categorical</label><div class=\"sk-toggleable__content\"><pre>['SpecialDay', 'Month', 'OperatingSystems', 'Browser', 'Region', 'TrafficType', 'VisitorType', 'Weekend']</pre></div></div></div><div class=\"sk-serial\"><div class=\"sk-item\"><div class=\"sk-serial\"><div class=\"sk-item\"><div class=\"sk-estimator sk-toggleable\"><input class=\"sk-toggleable__control sk-hidden--visually\" id=\"422aae1a-4c72-47b0-96d7-c8d85ad06e21\" type=\"checkbox\" ><label class=\"sk-toggleable__label\" for=\"422aae1a-4c72-47b0-96d7-c8d85ad06e21\">SimpleImputer</label><div class=\"sk-toggleable__content\"><pre>SimpleImputer(add_indicator=True, strategy='most_frequent')</pre></div></div></div><div class=\"sk-item\"><div class=\"sk-estimator sk-toggleable\"><input class=\"sk-toggleable__control sk-hidden--visually\" id=\"f9a40dfb-9c71-4c3b-a38f-4ac7cb14348f\" type=\"checkbox\" ><label class=\"sk-toggleable__label\" for=\"f9a40dfb-9c71-4c3b-a38f-4ac7cb14348f\">OneHotEncoder</label><div class=\"sk-toggleable__content\"><pre>OneHotEncoder(handle_unknown='ignore')</pre></div></div></div></div></div></div></div></div><div class=\"sk-parallel-item\"><div class=\"sk-item\"><div class=\"sk-label-container\"><div class=\"sk-label sk-toggleable\"><input class=\"sk-toggleable__control sk-hidden--visually\" id=\"54e2b877-13bd-4a2b-afd2-b327384f088c\" type=\"checkbox\" ><label class=\"sk-toggleable__label\" for=\"54e2b877-13bd-4a2b-afd2-b327384f088c\">continuous</label><div class=\"sk-toggleable__content\"><pre>['Administrative', 'Administrative_Duration', 'Informational', 'Informational_Duration', 'ProductRelated', 'ProductRelated_Duration', 'BounceRates', 'ExitRates', 'PageValues']</pre></div></div></div><div class=\"sk-serial\"><div class=\"sk-item\"><div class=\"sk-serial\"><div class=\"sk-item\"><div class=\"sk-estimator sk-toggleable\"><input class=\"sk-toggleable__control sk-hidden--visually\" id=\"fcbe633c-82ce-41e8-8ffd-d2b8fa3b303b\" type=\"checkbox\" ><label class=\"sk-toggleable__label\" for=\"fcbe633c-82ce-41e8-8ffd-d2b8fa3b303b\">SimpleImputer</label><div class=\"sk-toggleable__content\"><pre>SimpleImputer(add_indicator=True, strategy='median')</pre></div></div></div><div class=\"sk-item\"><div class=\"sk-estimator sk-toggleable\"><input class=\"sk-toggleable__control sk-hidden--visually\" id=\"020ffa05-05b5-42f5-94ee-e57c4b1d46bf\" type=\"checkbox\" ><label class=\"sk-toggleable__label\" for=\"020ffa05-05b5-42f5-94ee-e57c4b1d46bf\">StandardScaler</label><div class=\"sk-toggleable__content\"><pre>StandardScaler()</pre></div></div></div></div></div></div></div></div></div></div><div class=\"sk-item\"><div class=\"sk-estimator sk-toggleable\"><input class=\"sk-toggleable__control sk-hidden--visually\" id=\"fea3356b-528f-4824-b61e-2e49aa647b2f\" type=\"checkbox\" ><label class=\"sk-toggleable__label\" for=\"fea3356b-528f-4824-b61e-2e49aa647b2f\">SMOTE</label><div class=\"sk-toggleable__content\"><pre>SMOTE()</pre></div></div></div><div class=\"sk-item\"><div class=\"sk-estimator sk-toggleable\"><input class=\"sk-toggleable__control sk-hidden--visually\" id=\"1432ace9-1568-45a2-ba57-230d14fad78b\" type=\"checkbox\" ><label class=\"sk-toggleable__label\" for=\"1432ace9-1568-45a2-ba57-230d14fad78b\">LogisticRegression</label><div class=\"sk-toggleable__content\"><pre>LogisticRegression()</pre></div></div></div></div></div></div></div></div></div></div></div></div>"
      ],
      "text/plain": [
       "RandomizedSearchCV(cv=10,\n",
       "                   estimator=Pipeline(steps=[('columntransformer',\n",
       "                                              ColumnTransformer(transformers=[('categorical',\n",
       "                                                                               Pipeline(steps=[('imputer',\n",
       "                                                                                                SimpleImputer(add_indicator=True,\n",
       "                                                                                                              strategy='most_frequent')),\n",
       "                                                                                               ('ohe',\n",
       "                                                                                                OneHotEncoder(handle_unknown='ignore'))]),\n",
       "                                                                               ['SpecialDay',\n",
       "                                                                                'Month',\n",
       "                                                                                'OperatingSystems',\n",
       "                                                                                'Browser',\n",
       "                                                                                'Region',\n",
       "                                                                                'TrafficType',\n",
       "                                                                                'VisitorType',\n",
       "                                                                                'Weeken...\n",
       "       5.99484250e+01, 1.66810054e+02, 4.64158883e+02, 1.29154967e+03,\n",
       "       3.59381366e+03, 1.00000000e+04]),\n",
       "                                        'logisticregression__class_weight': ['balanced',\n",
       "                                                                             None],\n",
       "                                        'logisticregression__max_iter': array([ 50., 100., 150., 200., 250.]),\n",
       "                                        'logisticregression__penalty': ['l1',\n",
       "                                                                        'l2'],\n",
       "                                        'logisticregression__solver': ['lbfgs',\n",
       "                                                                       'liblinear',\n",
       "                                                                       'saga'],\n",
       "                                        'smote__k_neighbors': [5, 10, 15]},\n",
       "                   scoring='balanced_accuracy', verbose=True)"
      ]
     },
     "execution_count": 16,
     "metadata": {},
     "output_type": "execute_result"
    }
   ],
   "source": [
    "lr_rand_cv.fit(X_train, y_train);"
   ]
  },
  {
   "cell_type": "code",
   "execution_count": 18,
   "metadata": {},
   "outputs": [
    {
     "data": {
      "text/plain": [
       "0.8145259343255745"
      ]
     },
     "execution_count": 18,
     "metadata": {},
     "output_type": "execute_result"
    }
   ],
   "source": [
    "# Best model's CV balanced accuracy score\n",
    "\n",
    "lr_rand_cv.best_score_"
   ]
  },
  {
   "cell_type": "markdown",
   "metadata": {},
   "source": [
    "## Random Forest"
   ]
  },
  {
   "cell_type": "markdown",
   "metadata": {},
   "source": [
    "Some advantages over Linear Regression:\n",
    "\n",
    "- **Less hyperparameters** to search for compared to *Logistic Regression*\n",
    "- Can take care of modeling without needing to *One Hot Encode* the categorical variables and *scaling* continuous variables\n",
    "- Tends to perform better with **tabular** and **imbalanced data**\n",
    "\n",
    "Disadvantage:\n",
    "\n",
    "- Can **not extrapolate** like *Logistic Regression*\n",
    "- Slower CV search"
   ]
  },
  {
   "cell_type": "code",
   "execution_count": 19,
   "metadata": {},
   "outputs": [],
   "source": [
    "# create a pipeline for random forest\n",
    "\n",
    "rf_pipe = make_pipeline(                                    \n",
    "                        preprocessing,                      # preprocessing pipeline we created before\n",
    "                        imblearn.over_sampling.SMOTE(),     # upsample using SMOTE\n",
    "                        RandomForestClassifier()            # algorithm to use\n",
    "                       )\n",
    "\n",
    "# hyperparameter search space\n",
    "\n",
    "hyperparameters = dict(smote__k_neighbors = [5, 10, 15],                               # k-neighbors to look for in SMOTE\n",
    "                       randomforestclassifier__criterion=['gini', 'entropy'],          # loss functions for rf classifier\n",
    "                       randomforestclassifier__max_depth=[5,10,20,30,40],              # max depth of a single tree in the forest\n",
    "                       randomforestclassifier__min_samples_leaf=[1,2,3,4,5],           # min sample \n",
    "                       randomforestclassifier__max_features=['auto', 'sqrt', 'log'])   # max number of features to l                  \n",
    "                       \n",
    "\n",
    "# Randomized Search Cross Validation\n",
    "\n",
    "rf_rand_cv = RandomizedSearchCV(estimator = rf_pipe,                  # use the pipe as an estimator\n",
    "                                param_distributions=hyperparameters,  # hyperparameters to search\n",
    "                                scoring='balanced_accuracy',          # chose best model based on this metric\n",
    "                                n_iter = 100,                         # do CV for 100 different models with different combination of hyperparameters\n",
    "                                cv = 10,                              # 10 fold CV\n",
    "                                n_jobs=-1,                            # use all cores\n",
    "                                verbose=True)"
   ]
  },
  {
   "cell_type": "code",
   "execution_count": 20,
   "metadata": {},
   "outputs": [
    {
     "name": "stdout",
     "output_type": "stream",
     "text": [
      "Fitting 10 folds for each of 100 candidates, totalling 1000 fits\n"
     ]
    },
    {
     "name": "stderr",
     "output_type": "stream",
     "text": [
      "/Users/bcanogullari/opt/anaconda3/lib/python3.8/site-packages/sklearn/model_selection/_search.py:918: UserWarning: One or more of the test scores are non-finite: [0.80315305 0.82469536 0.81662387 0.82491056 0.83870736 0.8405644\n",
      " 0.80585035 0.82342454 0.82475377 0.82601481 0.82297209 0.8211103\n",
      "        nan 0.84055945 0.81118838        nan        nan 0.83722759\n",
      " 0.8426426  0.8135964  0.82443068 0.82506864 0.82150265 0.82503951\n",
      " 0.83941899 0.83926382        nan 0.83674905 0.82208248 0.82495551\n",
      " 0.83364977 0.83204751        nan 0.81726027        nan 0.82622505\n",
      " 0.82572935 0.83842737        nan 0.81898264        nan        nan\n",
      "        nan 0.80828032 0.83825612 0.83254165        nan        nan\n",
      " 0.83394962 0.83790254 0.81892697 0.83846501        nan        nan\n",
      "        nan        nan 0.81750327 0.83893129 0.81640541 0.83842971\n",
      " 0.82326619        nan 0.82712146 0.83998613 0.83859912 0.82841843\n",
      "        nan 0.84061587        nan        nan 0.82825639 0.81671192\n",
      "        nan 0.83617587 0.84121315 0.81430022 0.8390883  0.82367761\n",
      "        nan 0.84038818 0.81788831        nan 0.804536          nan\n",
      "        nan 0.8258208         nan        nan        nan        nan\n",
      " 0.82295118 0.82657415 0.83809607 0.82879129 0.83868774 0.81657198\n",
      "        nan 0.82805167        nan 0.82635584]\n",
      "  warnings.warn(\n"
     ]
    },
    {
     "data": {
      "text/html": [
       "<style>div.sk-top-container {color: black;background-color: white;}div.sk-toggleable {background-color: white;}label.sk-toggleable__label {cursor: pointer;display: block;width: 100%;margin-bottom: 0;padding: 0.2em 0.3em;box-sizing: border-box;text-align: center;}div.sk-toggleable__content {max-height: 0;max-width: 0;overflow: hidden;text-align: left;background-color: #f0f8ff;}div.sk-toggleable__content pre {margin: 0.2em;color: black;border-radius: 0.25em;background-color: #f0f8ff;}input.sk-toggleable__control:checked~div.sk-toggleable__content {max-height: 200px;max-width: 100%;overflow: auto;}div.sk-estimator input.sk-toggleable__control:checked~label.sk-toggleable__label {background-color: #d4ebff;}div.sk-label input.sk-toggleable__control:checked~label.sk-toggleable__label {background-color: #d4ebff;}input.sk-hidden--visually {border: 0;clip: rect(1px 1px 1px 1px);clip: rect(1px, 1px, 1px, 1px);height: 1px;margin: -1px;overflow: hidden;padding: 0;position: absolute;width: 1px;}div.sk-estimator {font-family: monospace;background-color: #f0f8ff;margin: 0.25em 0.25em;border: 1px dotted black;border-radius: 0.25em;box-sizing: border-box;}div.sk-estimator:hover {background-color: #d4ebff;}div.sk-parallel-item::after {content: \"\";width: 100%;border-bottom: 1px solid gray;flex-grow: 1;}div.sk-label:hover label.sk-toggleable__label {background-color: #d4ebff;}div.sk-serial::before {content: \"\";position: absolute;border-left: 1px solid gray;box-sizing: border-box;top: 2em;bottom: 0;left: 50%;}div.sk-serial {display: flex;flex-direction: column;align-items: center;background-color: white;}div.sk-item {z-index: 1;}div.sk-parallel {display: flex;align-items: stretch;justify-content: center;background-color: white;}div.sk-parallel-item {display: flex;flex-direction: column;position: relative;background-color: white;}div.sk-parallel-item:first-child::after {align-self: flex-end;width: 50%;}div.sk-parallel-item:last-child::after {align-self: flex-start;width: 50%;}div.sk-parallel-item:only-child::after {width: 0;}div.sk-dashed-wrapped {border: 1px dashed gray;margin: 0.2em;box-sizing: border-box;padding-bottom: 0.1em;background-color: white;position: relative;}div.sk-label label {font-family: monospace;font-weight: bold;background-color: white;display: inline-block;line-height: 1.2em;}div.sk-label-container {position: relative;z-index: 2;text-align: center;}div.sk-container {display: inline-block;position: relative;}</style><div class=\"sk-top-container\"><div class=\"sk-container\"><div class=\"sk-item sk-dashed-wrapped\"><div class=\"sk-label-container\"><div class=\"sk-label sk-toggleable\"><input class=\"sk-toggleable__control sk-hidden--visually\" id=\"9c3f2c26-3754-467c-af02-4c672221a71c\" type=\"checkbox\" ><label class=\"sk-toggleable__label\" for=\"9c3f2c26-3754-467c-af02-4c672221a71c\">RandomizedSearchCV</label><div class=\"sk-toggleable__content\"><pre>RandomizedSearchCV(cv=10,\n",
       "                   estimator=Pipeline(steps=[('columntransformer',\n",
       "                                              ColumnTransformer(transformers=[('categorical',\n",
       "                                                                               Pipeline(steps=[('imputer',\n",
       "                                                                                                SimpleImputer(add_indicator=True,\n",
       "                                                                                                              strategy='most_frequent')),\n",
       "                                                                                               ('ohe',\n",
       "                                                                                                OneHotEncoder(handle_unknown='ignore'))]),\n",
       "                                                                               ['SpecialDay',\n",
       "                                                                                'Month',\n",
       "                                                                                'OperatingSystems',\n",
       "                                                                                'Browser',\n",
       "                                                                                'Region',\n",
       "                                                                                'TrafficType',\n",
       "                                                                                'VisitorType',\n",
       "                                                                                'Weeken...\n",
       "                                              RandomForestClassifier())]),\n",
       "                   n_iter=100, n_jobs=-1,\n",
       "                   param_distributions={'randomforestclassifier__criterion': ['gini',\n",
       "                                                                              'entropy'],\n",
       "                                        'randomforestclassifier__max_depth': [5,\n",
       "                                                                              10,\n",
       "                                                                              20,\n",
       "                                                                              30,\n",
       "                                                                              40],\n",
       "                                        'randomforestclassifier__max_features': ['auto',\n",
       "                                                                                 'sqrt',\n",
       "                                                                                 'log'],\n",
       "                                        'randomforestclassifier__min_samples_leaf': [1,\n",
       "                                                                                     2,\n",
       "                                                                                     3,\n",
       "                                                                                     4,\n",
       "                                                                                     5],\n",
       "                                        'smote__k_neighbors': [5, 10, 15]},\n",
       "                   scoring='balanced_accuracy', verbose=True)</pre></div></div></div><div class=\"sk-parallel\"><div class=\"sk-parallel-item\"><div class=\"sk-item\"><div class=\"sk-serial\"><div class=\"sk-item\"><div class=\"sk-serial\"><div class=\"sk-item sk-dashed-wrapped\"><div class=\"sk-label-container\"><div class=\"sk-label sk-toggleable\"><input class=\"sk-toggleable__control sk-hidden--visually\" id=\"c40ee45a-f05f-4462-beec-62cec5971f26\" type=\"checkbox\" ><label class=\"sk-toggleable__label\" for=\"c40ee45a-f05f-4462-beec-62cec5971f26\">columntransformer: ColumnTransformer</label><div class=\"sk-toggleable__content\"><pre>ColumnTransformer(transformers=[('categorical',\n",
       "                                 Pipeline(steps=[('imputer',\n",
       "                                                  SimpleImputer(add_indicator=True,\n",
       "                                                                strategy='most_frequent')),\n",
       "                                                 ('ohe',\n",
       "                                                  OneHotEncoder(handle_unknown='ignore'))]),\n",
       "                                 ['SpecialDay', 'Month', 'OperatingSystems',\n",
       "                                  'Browser', 'Region', 'TrafficType',\n",
       "                                  'VisitorType', 'Weekend']),\n",
       "                                ('continuous',\n",
       "                                 Pipeline(steps=[('imputer',\n",
       "                                                  SimpleImputer(add_indicator=True,\n",
       "                                                                strategy='median')),\n",
       "                                                 ('scaler', StandardScaler())]),\n",
       "                                 ['Administrative', 'Administrative_Duration',\n",
       "                                  'Informational', 'Informational_Duration',\n",
       "                                  'ProductRelated', 'ProductRelated_Duration',\n",
       "                                  'BounceRates', 'ExitRates', 'PageValues'])])</pre></div></div></div><div class=\"sk-parallel\"><div class=\"sk-parallel-item\"><div class=\"sk-item\"><div class=\"sk-label-container\"><div class=\"sk-label sk-toggleable\"><input class=\"sk-toggleable__control sk-hidden--visually\" id=\"21d184be-e278-45e7-99d4-1292b1d5bc0d\" type=\"checkbox\" ><label class=\"sk-toggleable__label\" for=\"21d184be-e278-45e7-99d4-1292b1d5bc0d\">categorical</label><div class=\"sk-toggleable__content\"><pre>['SpecialDay', 'Month', 'OperatingSystems', 'Browser', 'Region', 'TrafficType', 'VisitorType', 'Weekend']</pre></div></div></div><div class=\"sk-serial\"><div class=\"sk-item\"><div class=\"sk-serial\"><div class=\"sk-item\"><div class=\"sk-estimator sk-toggleable\"><input class=\"sk-toggleable__control sk-hidden--visually\" id=\"6bf5fb7d-5c08-4b6f-b15b-4e19a0cdc357\" type=\"checkbox\" ><label class=\"sk-toggleable__label\" for=\"6bf5fb7d-5c08-4b6f-b15b-4e19a0cdc357\">SimpleImputer</label><div class=\"sk-toggleable__content\"><pre>SimpleImputer(add_indicator=True, strategy='most_frequent')</pre></div></div></div><div class=\"sk-item\"><div class=\"sk-estimator sk-toggleable\"><input class=\"sk-toggleable__control sk-hidden--visually\" id=\"bd376bfa-4023-4420-8186-6f688eec71db\" type=\"checkbox\" ><label class=\"sk-toggleable__label\" for=\"bd376bfa-4023-4420-8186-6f688eec71db\">OneHotEncoder</label><div class=\"sk-toggleable__content\"><pre>OneHotEncoder(handle_unknown='ignore')</pre></div></div></div></div></div></div></div></div><div class=\"sk-parallel-item\"><div class=\"sk-item\"><div class=\"sk-label-container\"><div class=\"sk-label sk-toggleable\"><input class=\"sk-toggleable__control sk-hidden--visually\" id=\"d24f99e4-5909-4982-becb-5978bbcdf483\" type=\"checkbox\" ><label class=\"sk-toggleable__label\" for=\"d24f99e4-5909-4982-becb-5978bbcdf483\">continuous</label><div class=\"sk-toggleable__content\"><pre>['Administrative', 'Administrative_Duration', 'Informational', 'Informational_Duration', 'ProductRelated', 'ProductRelated_Duration', 'BounceRates', 'ExitRates', 'PageValues']</pre></div></div></div><div class=\"sk-serial\"><div class=\"sk-item\"><div class=\"sk-serial\"><div class=\"sk-item\"><div class=\"sk-estimator sk-toggleable\"><input class=\"sk-toggleable__control sk-hidden--visually\" id=\"6cbbac3c-33ff-4bd1-ad9f-158ca7f3f40e\" type=\"checkbox\" ><label class=\"sk-toggleable__label\" for=\"6cbbac3c-33ff-4bd1-ad9f-158ca7f3f40e\">SimpleImputer</label><div class=\"sk-toggleable__content\"><pre>SimpleImputer(add_indicator=True, strategy='median')</pre></div></div></div><div class=\"sk-item\"><div class=\"sk-estimator sk-toggleable\"><input class=\"sk-toggleable__control sk-hidden--visually\" id=\"e4454a34-c38a-4f9b-bfb7-ac89cc6f277a\" type=\"checkbox\" ><label class=\"sk-toggleable__label\" for=\"e4454a34-c38a-4f9b-bfb7-ac89cc6f277a\">StandardScaler</label><div class=\"sk-toggleable__content\"><pre>StandardScaler()</pre></div></div></div></div></div></div></div></div></div></div><div class=\"sk-item\"><div class=\"sk-estimator sk-toggleable\"><input class=\"sk-toggleable__control sk-hidden--visually\" id=\"06e66625-a309-43a0-87b0-7847bc34b569\" type=\"checkbox\" ><label class=\"sk-toggleable__label\" for=\"06e66625-a309-43a0-87b0-7847bc34b569\">SMOTE</label><div class=\"sk-toggleable__content\"><pre>SMOTE()</pre></div></div></div><div class=\"sk-item\"><div class=\"sk-estimator sk-toggleable\"><input class=\"sk-toggleable__control sk-hidden--visually\" id=\"f8acbc5c-7f1a-4a03-91cf-23d076b089ad\" type=\"checkbox\" ><label class=\"sk-toggleable__label\" for=\"f8acbc5c-7f1a-4a03-91cf-23d076b089ad\">RandomForestClassifier</label><div class=\"sk-toggleable__content\"><pre>RandomForestClassifier()</pre></div></div></div></div></div></div></div></div></div></div></div></div>"
      ],
      "text/plain": [
       "RandomizedSearchCV(cv=10,\n",
       "                   estimator=Pipeline(steps=[('columntransformer',\n",
       "                                              ColumnTransformer(transformers=[('categorical',\n",
       "                                                                               Pipeline(steps=[('imputer',\n",
       "                                                                                                SimpleImputer(add_indicator=True,\n",
       "                                                                                                              strategy='most_frequent')),\n",
       "                                                                                               ('ohe',\n",
       "                                                                                                OneHotEncoder(handle_unknown='ignore'))]),\n",
       "                                                                               ['SpecialDay',\n",
       "                                                                                'Month',\n",
       "                                                                                'OperatingSystems',\n",
       "                                                                                'Browser',\n",
       "                                                                                'Region',\n",
       "                                                                                'TrafficType',\n",
       "                                                                                'VisitorType',\n",
       "                                                                                'Weeken...\n",
       "                                              RandomForestClassifier())]),\n",
       "                   n_iter=100, n_jobs=-1,\n",
       "                   param_distributions={'randomforestclassifier__criterion': ['gini',\n",
       "                                                                              'entropy'],\n",
       "                                        'randomforestclassifier__max_depth': [5,\n",
       "                                                                              10,\n",
       "                                                                              20,\n",
       "                                                                              30,\n",
       "                                                                              40],\n",
       "                                        'randomforestclassifier__max_features': ['auto',\n",
       "                                                                                 'sqrt',\n",
       "                                                                                 'log'],\n",
       "                                        'randomforestclassifier__min_samples_leaf': [1,\n",
       "                                                                                     2,\n",
       "                                                                                     3,\n",
       "                                                                                     4,\n",
       "                                                                                     5],\n",
       "                                        'smote__k_neighbors': [5, 10, 15]},\n",
       "                   scoring='balanced_accuracy', verbose=True)"
      ]
     },
     "execution_count": 20,
     "metadata": {},
     "output_type": "execute_result"
    }
   ],
   "source": [
    "rf_rand_cv.fit(X_train, y_train);"
   ]
  },
  {
   "cell_type": "code",
   "execution_count": 22,
   "metadata": {},
   "outputs": [
    {
     "data": {
      "text/plain": [
       "0.8426426038485083"
      ]
     },
     "execution_count": 22,
     "metadata": {},
     "output_type": "execute_result"
    }
   ],
   "source": [
    "# Best random forest model's CV balanced accuracy score\n",
    "\n",
    "rf_rand_cv.best_score_"
   ]
  },
  {
   "cell_type": "markdown",
   "metadata": {},
   "source": [
    "# Results"
   ]
  },
  {
   "cell_type": "markdown",
   "metadata": {},
   "source": [
    "## Champion Final Model"
   ]
  },
  {
   "cell_type": "markdown",
   "metadata": {},
   "source": [
    "- According to the CV balanced accuracy score results, better algorithm is **Random Forest**\n",
    "- Let's get some more insight about our best model by looking at the whole pipeline, hyperparameters, feature importances and metrics on testing set"
   ]
  },
  {
   "cell_type": "code",
   "execution_count": 23,
   "metadata": {},
   "outputs": [],
   "source": [
    "# Pick the best model from Randomized Search CV\n",
    "\n",
    "best_model = rf_rand_cv.best_estimator_"
   ]
  },
  {
   "cell_type": "markdown",
   "metadata": {},
   "source": [
    "### Pipeline steps and non-default Hyperparameters of the Best Model"
   ]
  },
  {
   "cell_type": "code",
   "execution_count": 24,
   "metadata": {},
   "outputs": [
    {
     "data": {
      "text/html": [
       "<style>div.sk-top-container {color: black;background-color: white;}div.sk-toggleable {background-color: white;}label.sk-toggleable__label {cursor: pointer;display: block;width: 100%;margin-bottom: 0;padding: 0.2em 0.3em;box-sizing: border-box;text-align: center;}div.sk-toggleable__content {max-height: 0;max-width: 0;overflow: hidden;text-align: left;background-color: #f0f8ff;}div.sk-toggleable__content pre {margin: 0.2em;color: black;border-radius: 0.25em;background-color: #f0f8ff;}input.sk-toggleable__control:checked~div.sk-toggleable__content {max-height: 200px;max-width: 100%;overflow: auto;}div.sk-estimator input.sk-toggleable__control:checked~label.sk-toggleable__label {background-color: #d4ebff;}div.sk-label input.sk-toggleable__control:checked~label.sk-toggleable__label {background-color: #d4ebff;}input.sk-hidden--visually {border: 0;clip: rect(1px 1px 1px 1px);clip: rect(1px, 1px, 1px, 1px);height: 1px;margin: -1px;overflow: hidden;padding: 0;position: absolute;width: 1px;}div.sk-estimator {font-family: monospace;background-color: #f0f8ff;margin: 0.25em 0.25em;border: 1px dotted black;border-radius: 0.25em;box-sizing: border-box;}div.sk-estimator:hover {background-color: #d4ebff;}div.sk-parallel-item::after {content: \"\";width: 100%;border-bottom: 1px solid gray;flex-grow: 1;}div.sk-label:hover label.sk-toggleable__label {background-color: #d4ebff;}div.sk-serial::before {content: \"\";position: absolute;border-left: 1px solid gray;box-sizing: border-box;top: 2em;bottom: 0;left: 50%;}div.sk-serial {display: flex;flex-direction: column;align-items: center;background-color: white;}div.sk-item {z-index: 1;}div.sk-parallel {display: flex;align-items: stretch;justify-content: center;background-color: white;}div.sk-parallel-item {display: flex;flex-direction: column;position: relative;background-color: white;}div.sk-parallel-item:first-child::after {align-self: flex-end;width: 50%;}div.sk-parallel-item:last-child::after {align-self: flex-start;width: 50%;}div.sk-parallel-item:only-child::after {width: 0;}div.sk-dashed-wrapped {border: 1px dashed gray;margin: 0.2em;box-sizing: border-box;padding-bottom: 0.1em;background-color: white;position: relative;}div.sk-label label {font-family: monospace;font-weight: bold;background-color: white;display: inline-block;line-height: 1.2em;}div.sk-label-container {position: relative;z-index: 2;text-align: center;}div.sk-container {display: inline-block;position: relative;}</style><div class=\"sk-top-container\"><div class=\"sk-container\"><div class=\"sk-item sk-dashed-wrapped\"><div class=\"sk-label-container\"><div class=\"sk-label sk-toggleable\"><input class=\"sk-toggleable__control sk-hidden--visually\" id=\"2fe9ce2c-2060-4410-883e-e17b1fe327e6\" type=\"checkbox\" ><label class=\"sk-toggleable__label\" for=\"2fe9ce2c-2060-4410-883e-e17b1fe327e6\">Pipeline</label><div class=\"sk-toggleable__content\"><pre>Pipeline(steps=[('columntransformer',\n",
       "                 ColumnTransformer(transformers=[('categorical',\n",
       "                                                  Pipeline(steps=[('imputer',\n",
       "                                                                   SimpleImputer(add_indicator=True,\n",
       "                                                                                 strategy='most_frequent')),\n",
       "                                                                  ('ohe',\n",
       "                                                                   OneHotEncoder(handle_unknown='ignore'))]),\n",
       "                                                  ['SpecialDay', 'Month',\n",
       "                                                   'OperatingSystems',\n",
       "                                                   'Browser', 'Region',\n",
       "                                                   'TrafficType', 'VisitorType',\n",
       "                                                   'Weekend']),\n",
       "                                                 ('continuous',\n",
       "                                                  Pipeline(steps=[...\n",
       "                                                                   SimpleImputer(add_indicator=True,\n",
       "                                                                                 strategy='median')),\n",
       "                                                                  ('scaler',\n",
       "                                                                   StandardScaler())]),\n",
       "                                                  ['Administrative',\n",
       "                                                   'Administrative_Duration',\n",
       "                                                   'Informational',\n",
       "                                                   'Informational_Duration',\n",
       "                                                   'ProductRelated',\n",
       "                                                   'ProductRelated_Duration',\n",
       "                                                   'BounceRates', 'ExitRates',\n",
       "                                                   'PageValues'])])),\n",
       "                ('smote', SMOTE()),\n",
       "                ('randomforestclassifier',\n",
       "                 RandomForestClassifier(criterion='entropy', max_depth=5,\n",
       "                                        min_samples_leaf=5))])</pre></div></div></div><div class=\"sk-serial\"><div class=\"sk-item sk-dashed-wrapped\"><div class=\"sk-label-container\"><div class=\"sk-label sk-toggleable\"><input class=\"sk-toggleable__control sk-hidden--visually\" id=\"bf4fd5b6-cca0-417a-855f-462df7329d17\" type=\"checkbox\" ><label class=\"sk-toggleable__label\" for=\"bf4fd5b6-cca0-417a-855f-462df7329d17\">columntransformer: ColumnTransformer</label><div class=\"sk-toggleable__content\"><pre>ColumnTransformer(transformers=[('categorical',\n",
       "                                 Pipeline(steps=[('imputer',\n",
       "                                                  SimpleImputer(add_indicator=True,\n",
       "                                                                strategy='most_frequent')),\n",
       "                                                 ('ohe',\n",
       "                                                  OneHotEncoder(handle_unknown='ignore'))]),\n",
       "                                 ['SpecialDay', 'Month', 'OperatingSystems',\n",
       "                                  'Browser', 'Region', 'TrafficType',\n",
       "                                  'VisitorType', 'Weekend']),\n",
       "                                ('continuous',\n",
       "                                 Pipeline(steps=[('imputer',\n",
       "                                                  SimpleImputer(add_indicator=True,\n",
       "                                                                strategy='median')),\n",
       "                                                 ('scaler', StandardScaler())]),\n",
       "                                 ['Administrative', 'Administrative_Duration',\n",
       "                                  'Informational', 'Informational_Duration',\n",
       "                                  'ProductRelated', 'ProductRelated_Duration',\n",
       "                                  'BounceRates', 'ExitRates', 'PageValues'])])</pre></div></div></div><div class=\"sk-parallel\"><div class=\"sk-parallel-item\"><div class=\"sk-item\"><div class=\"sk-label-container\"><div class=\"sk-label sk-toggleable\"><input class=\"sk-toggleable__control sk-hidden--visually\" id=\"5968c3b2-9fe1-4efe-85c4-b8c9f5f12c4c\" type=\"checkbox\" ><label class=\"sk-toggleable__label\" for=\"5968c3b2-9fe1-4efe-85c4-b8c9f5f12c4c\">categorical</label><div class=\"sk-toggleable__content\"><pre>['SpecialDay', 'Month', 'OperatingSystems', 'Browser', 'Region', 'TrafficType', 'VisitorType', 'Weekend']</pre></div></div></div><div class=\"sk-serial\"><div class=\"sk-item\"><div class=\"sk-serial\"><div class=\"sk-item\"><div class=\"sk-estimator sk-toggleable\"><input class=\"sk-toggleable__control sk-hidden--visually\" id=\"496336c6-e6f9-476b-9e24-dbc492aa8c41\" type=\"checkbox\" ><label class=\"sk-toggleable__label\" for=\"496336c6-e6f9-476b-9e24-dbc492aa8c41\">SimpleImputer</label><div class=\"sk-toggleable__content\"><pre>SimpleImputer(add_indicator=True, strategy='most_frequent')</pre></div></div></div><div class=\"sk-item\"><div class=\"sk-estimator sk-toggleable\"><input class=\"sk-toggleable__control sk-hidden--visually\" id=\"36899fc0-f135-453d-a8dd-243957aaa6c5\" type=\"checkbox\" ><label class=\"sk-toggleable__label\" for=\"36899fc0-f135-453d-a8dd-243957aaa6c5\">OneHotEncoder</label><div class=\"sk-toggleable__content\"><pre>OneHotEncoder(handle_unknown='ignore')</pre></div></div></div></div></div></div></div></div><div class=\"sk-parallel-item\"><div class=\"sk-item\"><div class=\"sk-label-container\"><div class=\"sk-label sk-toggleable\"><input class=\"sk-toggleable__control sk-hidden--visually\" id=\"e31ef0ed-318d-43a1-a75d-a3ffb2790aa0\" type=\"checkbox\" ><label class=\"sk-toggleable__label\" for=\"e31ef0ed-318d-43a1-a75d-a3ffb2790aa0\">continuous</label><div class=\"sk-toggleable__content\"><pre>['Administrative', 'Administrative_Duration', 'Informational', 'Informational_Duration', 'ProductRelated', 'ProductRelated_Duration', 'BounceRates', 'ExitRates', 'PageValues']</pre></div></div></div><div class=\"sk-serial\"><div class=\"sk-item\"><div class=\"sk-serial\"><div class=\"sk-item\"><div class=\"sk-estimator sk-toggleable\"><input class=\"sk-toggleable__control sk-hidden--visually\" id=\"15726f47-2aa2-4bfc-9d84-e2923a7b21a6\" type=\"checkbox\" ><label class=\"sk-toggleable__label\" for=\"15726f47-2aa2-4bfc-9d84-e2923a7b21a6\">SimpleImputer</label><div class=\"sk-toggleable__content\"><pre>SimpleImputer(add_indicator=True, strategy='median')</pre></div></div></div><div class=\"sk-item\"><div class=\"sk-estimator sk-toggleable\"><input class=\"sk-toggleable__control sk-hidden--visually\" id=\"0350a53c-7d32-48df-b261-f1f72be3d6b5\" type=\"checkbox\" ><label class=\"sk-toggleable__label\" for=\"0350a53c-7d32-48df-b261-f1f72be3d6b5\">StandardScaler</label><div class=\"sk-toggleable__content\"><pre>StandardScaler()</pre></div></div></div></div></div></div></div></div></div></div><div class=\"sk-item\"><div class=\"sk-estimator sk-toggleable\"><input class=\"sk-toggleable__control sk-hidden--visually\" id=\"b751daa4-d75a-4c9b-80ca-a31015822f7d\" type=\"checkbox\" ><label class=\"sk-toggleable__label\" for=\"b751daa4-d75a-4c9b-80ca-a31015822f7d\">SMOTE</label><div class=\"sk-toggleable__content\"><pre>SMOTE()</pre></div></div></div><div class=\"sk-item\"><div class=\"sk-estimator sk-toggleable\"><input class=\"sk-toggleable__control sk-hidden--visually\" id=\"d099808c-fb1f-4279-b27f-33cc8f0e52ca\" type=\"checkbox\" ><label class=\"sk-toggleable__label\" for=\"d099808c-fb1f-4279-b27f-33cc8f0e52ca\">RandomForestClassifier</label><div class=\"sk-toggleable__content\"><pre>RandomForestClassifier(criterion='entropy', max_depth=5, min_samples_leaf=5)</pre></div></div></div></div></div></div></div>"
      ],
      "text/plain": [
       "Pipeline(steps=[('columntransformer',\n",
       "                 ColumnTransformer(transformers=[('categorical',\n",
       "                                                  Pipeline(steps=[('imputer',\n",
       "                                                                   SimpleImputer(add_indicator=True,\n",
       "                                                                                 strategy='most_frequent')),\n",
       "                                                                  ('ohe',\n",
       "                                                                   OneHotEncoder(handle_unknown='ignore'))]),\n",
       "                                                  ['SpecialDay', 'Month',\n",
       "                                                   'OperatingSystems',\n",
       "                                                   'Browser', 'Region',\n",
       "                                                   'TrafficType', 'VisitorType',\n",
       "                                                   'Weekend']),\n",
       "                                                 ('continuous',\n",
       "                                                  Pipeline(steps=[...\n",
       "                                                                   SimpleImputer(add_indicator=True,\n",
       "                                                                                 strategy='median')),\n",
       "                                                                  ('scaler',\n",
       "                                                                   StandardScaler())]),\n",
       "                                                  ['Administrative',\n",
       "                                                   'Administrative_Duration',\n",
       "                                                   'Informational',\n",
       "                                                   'Informational_Duration',\n",
       "                                                   'ProductRelated',\n",
       "                                                   'ProductRelated_Duration',\n",
       "                                                   'BounceRates', 'ExitRates',\n",
       "                                                   'PageValues'])])),\n",
       "                ('smote', SMOTE()),\n",
       "                ('randomforestclassifier',\n",
       "                 RandomForestClassifier(criterion='entropy', max_depth=5,\n",
       "                                        min_samples_leaf=5))])"
      ]
     },
     "execution_count": 24,
     "metadata": {},
     "output_type": "execute_result"
    }
   ],
   "source": [
    "best_model"
   ]
  },
  {
   "cell_type": "code",
   "execution_count": 57,
   "metadata": {},
   "outputs": [
    {
     "data": {
      "text/plain": [
       "{'smote__k_neighbors': 5,\n",
       " 'randomforestclassifier__min_samples_leaf': 5,\n",
       " 'randomforestclassifier__max_features': 'auto',\n",
       " 'randomforestclassifier__max_depth': 5,\n",
       " 'randomforestclassifier__criterion': 'entropy'}"
      ]
     },
     "execution_count": 57,
     "metadata": {},
     "output_type": "execute_result"
    }
   ],
   "source": [
    "# Best hyperparameters\n",
    "\n",
    "rf_rand_cv.best_params_"
   ]
  },
  {
   "cell_type": "markdown",
   "metadata": {},
   "source": [
    "## Test set feature importance"
   ]
  },
  {
   "cell_type": "code",
   "execution_count": 40,
   "metadata": {},
   "outputs": [],
   "source": [
    "# Get permutation importance of features\n",
    "\n",
    "result = permutation_importance(best_model, X_test, y_test, n_repeats=10)"
   ]
  },
  {
   "cell_type": "code",
   "execution_count": 1,
   "metadata": {},
   "outputs": [
    {
     "ename": "NameError",
     "evalue": "name 'result' is not defined",
     "output_type": "error",
     "traceback": [
      "\u001b[0;31m---------------------------------------------------------------------------\u001b[0m",
      "\u001b[0;31mNameError\u001b[0m                                 Traceback (most recent call last)",
      "\u001b[0;32m<ipython-input-1-291b977fe977>\u001b[0m in \u001b[0;36m<module>\u001b[0;34m\u001b[0m\n\u001b[1;32m      2\u001b[0m \u001b[0;31m# source: https://scikit-learn.org/stable/auto_examples/inspection/plot_permutation_importance.html#sphx-glr-auto-examples-inspection-plot-permutation-importance-py\u001b[0m\u001b[0;34m\u001b[0m\u001b[0;34m\u001b[0m\u001b[0;34m\u001b[0m\u001b[0m\n\u001b[1;32m      3\u001b[0m \u001b[0;34m\u001b[0m\u001b[0m\n\u001b[0;32m----> 4\u001b[0;31m \u001b[0msorted_idx\u001b[0m \u001b[0;34m=\u001b[0m \u001b[0mresult\u001b[0m\u001b[0;34m.\u001b[0m\u001b[0mimportances_mean\u001b[0m\u001b[0;34m.\u001b[0m\u001b[0margsort\u001b[0m\u001b[0;34m(\u001b[0m\u001b[0;34m)\u001b[0m\u001b[0;34m\u001b[0m\u001b[0;34m\u001b[0m\u001b[0m\n\u001b[0m\u001b[1;32m      5\u001b[0m \u001b[0;34m\u001b[0m\u001b[0m\n\u001b[1;32m      6\u001b[0m \u001b[0mfig\u001b[0m\u001b[0;34m,\u001b[0m \u001b[0max\u001b[0m \u001b[0;34m=\u001b[0m \u001b[0mplt\u001b[0m\u001b[0;34m.\u001b[0m\u001b[0msubplots\u001b[0m\u001b[0;34m(\u001b[0m\u001b[0mfigsize\u001b[0m\u001b[0;34m=\u001b[0m\u001b[0;34m(\u001b[0m\u001b[0;36m14\u001b[0m\u001b[0;34m,\u001b[0m\u001b[0;36m7\u001b[0m\u001b[0;34m)\u001b[0m\u001b[0;34m)\u001b[0m\u001b[0;34m\u001b[0m\u001b[0;34m\u001b[0m\u001b[0m\n",
      "\u001b[0;31mNameError\u001b[0m: name 'result' is not defined"
     ]
    }
   ],
   "source": [
    "# Display permutation importance\n",
    "# source: https://scikit-learn.org/stable/auto_examples/inspection/plot_permutation_importance.html#sphx-glr-auto-examples-inspection-plot-permutation-importance-py\n",
    "\n",
    "sorted_idx = result.importances_mean.argsort()\n",
    "\n",
    "fig, ax = plt.subplots(figsize=(14,7))\n",
    "ax.boxplot(result.importances[sorted_idx].T,\n",
    "           vert=False, labels=X_train.columns[sorted_idx])\n",
    "ax.set_title(\"Permutation Importances (test set)\")\n",
    "fig.tight_layout()\n",
    "plt.show()"
   ]
  },
  {
   "cell_type": "markdown",
   "metadata": {},
   "source": [
    "As we can see above, in the test set, *PageValues* is a **highly important predictor** for our trained model. Meaning that it helps the most, out of the features we have, to differentiate between revenue and not revenue for the **unseen data**. There is a dramatic decrease in importance after that.\n",
    "- **PageValues**: Represent the average value for a web page that a user visited before completing an e-commerce transaction. Which makes sense for it to be important for revenue prediction because, speaking from experience, if we are really interested in buying a product we tend to go back and forth between websites to decide on where and what to buy"
   ]
  },
  {
   "cell_type": "markdown",
   "metadata": {},
   "source": [
    "Starting from second ranked feature(*Browser*), the decrese in the importance is gradual"
   ]
  },
  {
   "cell_type": "markdown",
   "metadata": {},
   "source": [
    "Starting from **ProductRelated_Duration** variable and other less important variables are actually causing our model to perform **worse** in general for the test set, based on negative permutation importance score\n",
    "\n",
    "- Now that we tested our model on the test set and realized how features affect our model, we can decide on what features to include or not for the next updated model if we have more data. Ex. try **dropping** *TrafficType* feature from the model..."
   ]
  },
  {
   "cell_type": "markdown",
   "metadata": {},
   "source": [
    "## Best model's test set performance on several evaluation metrics"
   ]
  },
  {
   "cell_type": "code",
   "execution_count": 27,
   "metadata": {},
   "outputs": [],
   "source": [
    "# Get predictions from the best model\n",
    "\n",
    "predictions = best_model.predict(X_test)"
   ]
  },
  {
   "cell_type": "code",
   "execution_count": 56,
   "metadata": {},
   "outputs": [],
   "source": [
    "# Define which metrics to look at\n",
    "metrics_to_test = [balanced_accuracy_score, recall_score, precision_score, f1_score]"
   ]
  },
  {
   "cell_type": "markdown",
   "metadata": {},
   "source": [
    "### Why such metrics?\n",
    "\n",
    "- For imbalanced datasets, **accuracy** score might not be the best indicator for model performance\n",
    "- Because of that reason, we check **balanced accuracy** score but that itself is not enough to look at\n",
    "- We also would like to see the **recall** and **precision** performance of our model on such imbalanced dataset\n",
    "- In addition to such metrics, we might want to look at **f1 score** to see how well our model performs when we combine precision and recall performances\n",
    "- On top of all, **confusion matrix** acts like an icing on the cake to better see the overall picture in terms of performance"
   ]
  },
  {
   "cell_type": "code",
   "execution_count": 55,
   "metadata": {},
   "outputs": [
    {
     "name": "stdout",
     "output_type": "stream",
     "text": [
      "balanced_accuracy_score is 0.860\n",
      "\n",
      "recall_score is 0.832\n",
      "\n",
      "precision_score is 0.574\n",
      "\n",
      "f1_score is 0.679\n",
      "\n"
     ]
    }
   ],
   "source": [
    "# print metric names and corresponding scores\n",
    "for metric in metrics_to_test:\n",
    "    print(f\"{metric.__name__} is {metric(y_test, predictions):.3f}\", end='\\n\\n')"
   ]
  },
  {
   "cell_type": "code",
   "execution_count": 52,
   "metadata": {},
   "outputs": [
    {
     "data": {
      "text/plain": [
       "array([[924, 118],\n",
       "       [ 32, 159]])"
      ]
     },
     "execution_count": 52,
     "metadata": {},
     "output_type": "execute_result"
    }
   ],
   "source": [
    "# Look at the confusion matrix\n",
    "\n",
    "confusion_matrix(y_test, predictions)"
   ]
  },
  {
   "cell_type": "markdown",
   "metadata": {},
   "source": [
    "## Conclusion"
   ]
  },
  {
   "cell_type": "markdown",
   "metadata": {},
   "source": [
    "- Based on **balanced accuracy** and **recall**, our model **performs relatively well**. Accuracy score suggests that we can correctly classify 86% of the user sessions if they will cause a revenue or not. We have a recall score of 83.2% in that sense"
   ]
  },
  {
   "cell_type": "markdown",
   "metadata": {},
   "source": [
    "- But if we look at our 57.4% **precision score**, we can see that our model is **over-predicting** a user causing a revenue and performing poorly in that sense. This might be because of our model not learning enough about the class *causing a revenue* as a result of having an **imbalanced dataset**"
   ]
  },
  {
   "cell_type": "markdown",
   "metadata": {},
   "source": [
    "- 67.9% f1 score suggests that the model performs okay if we care equally about recall and precision based on business decisions."
   ]
  },
  {
   "cell_type": "markdown",
   "metadata": {},
   "source": [
    "- **Overall**: Our model's performance depend on **what we expect** from it and the **business goals**. It doesn't perform great in every aspect, but it performs well in terms of accuracy and recall. "
   ]
  },
  {
   "cell_type": "markdown",
   "metadata": {},
   "source": [
    "## Why does this matter?\n",
    "\n",
    "- Customers who aren’t making a purchase can be analyzed in detail and further action can be taken accordingly to increase revenue"
   ]
  },
  {
   "cell_type": "markdown",
   "metadata": {},
   "source": [
    "## Summary\n",
    "\n",
    "- 1) Select dataset and research question\n",
    "- 2) Examine data to understand features, identify missing values, and EDA to detect any anomalies in the data\n",
    "- 3) Split data before doing any imputation and modeling to prevent leaking\n",
    "- 4) Select which features are going to be in the model, and create new variables from existing ones if appropriate\n",
    "- 5) Preprocess categorical and continuos variables accordingly\n",
    "- 6) Decide on which algorithms and hyperparameters to search for and do CV search to chose the best model based on a certain metric\n",
    "- 7) Select the best model and gather insights by looking at feature importance and different evaluation metrics"
   ]
  },
  {
   "cell_type": "markdown",
   "metadata": {},
   "source": [
    "## Next Steps\n",
    "\n",
    "- Features that caused our training model to perform worse based on the permutation importance can be taken out from the model and retraining can be done to see if there will be an improvement\n",
    "- Collect more data about the minority class, if it makes sense in terms of cost/return\n",
    "- Monitor model's performance and make adjustments if necessary"
   ]
  },
  {
   "cell_type": "code",
   "execution_count": null,
   "metadata": {},
   "outputs": [],
   "source": []
  },
  {
   "cell_type": "code",
   "execution_count": null,
   "metadata": {},
   "outputs": [],
   "source": []
  },
  {
   "cell_type": "code",
   "execution_count": null,
   "metadata": {},
   "outputs": [],
   "source": []
  },
  {
   "cell_type": "code",
   "execution_count": null,
   "metadata": {},
   "outputs": [],
   "source": []
  }
 ],
 "metadata": {
  "kernelspec": {
   "display_name": "Python 3",
   "language": "python",
   "name": "python3"
  },
  "language_info": {
   "codemirror_mode": {
    "name": "ipython",
    "version": 3
   },
   "file_extension": ".py",
   "mimetype": "text/x-python",
   "name": "python",
   "nbconvert_exporter": "python",
   "pygments_lexer": "ipython3",
   "version": "3.8.3"
  }
 },
 "nbformat": 4,
 "nbformat_minor": 4
}
